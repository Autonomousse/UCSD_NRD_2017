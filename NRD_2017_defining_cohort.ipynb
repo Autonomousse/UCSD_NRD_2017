{
 "metadata": {
  "language_info": {
   "codemirror_mode": {
    "name": "ipython",
    "version": 3
   },
   "file_extension": ".py",
   "mimetype": "text/x-python",
   "name": "python",
   "nbconvert_exporter": "python",
   "pygments_lexer": "ipython3",
   "version": "3.9.1-final"
  },
  "orig_nbformat": 2,
  "kernelspec": {
   "name": "python3",
   "display_name": "Python 3.9.1 64-bit",
   "metadata": {
    "interpreter": {
     "hash": "65318f9a19e797ba91dbd1ec0d7703864a8775c5401b0f1d559072041f39fdcc"
    }
   }
  }
 },
 "nbformat": 4,
 "nbformat_minor": 2,
 "cells": [
  {
   "cell_type": "code",
   "execution_count": 1,
   "metadata": {},
   "outputs": [],
   "source": [
    "# Import dependencies.\n",
    "import pandas as pd\n",
    "import numpy as np\n",
    "import os\n",
    "import dask.dataframe as dd\n",
    "from tqdm.auto import tqdm\n",
    "pd.set_option('display.max_columns', 500)"
   ]
  },
  {
   "cell_type": "code",
   "execution_count": 2,
   "metadata": {},
   "outputs": [],
   "source": [
    "# Set path to files and read in the CSV file. Use dtyping to save memory and use dask for efficiency.\n",
    "path = 'C:/Users/outla/Desktop/VA_ML_Research/UCSD_NRD_2017'\n",
    "os.chdir(path)\n",
    "cohort_file = dd.read_csv(\"Nghia_NRD_2017_Cohort.csv\", dtype={'age':'float16', 'aweekend':'float16', 'died':'float16', 'discwt':'float64', 'dispuniform':'float16', 'dmonth':'float16', 'dqtr':'float16', 'drg':'float16', 'drgver':'float16', 'drg_nopoa':'float16', 'i10_dx1':str, 'i10_dx2':str, 'i10_dx3':str, 'i10_dx4':str, 'i10_dx5':str, 'i10_dx6':str, 'i10_dx7':str, 'i10_dx8':str, 'i10_dx9':str, 'i10_dx10':str, 'i10_dx11':str, 'i10_dx12':str, 'i10_dx13':str, 'i10_dx14':str, 'i10_dx15':str, 'i10_dx16':str, 'i10_dx17':str, 'i10_dx18':str, 'i10_dx19':str, 'i10_dx20':str, 'i10_dx21':str, 'i10_dx22':str,'i10_dx23':str,'i10_dx24':str, 'i10_dx25':str,'i10_dx26':str,'i10_dx27':str,'i10_dx28':str,'i10_dx29':str, 'i10_dx30':str, 'i10_dx31':str, 'i10_dx32':str, 'i10_dx33':str, 'i10_dx34':str, 'i10_dx35':str, 'i10_dx36':str, 'i10_dx37':str, 'i10_dx38':str, 'i10_dx39':str, 'i10_dx40':str, 'elective':'float16', 'female':'float16', 'hcup_ed':'float16', 'hosp_nrd':'float64', 'los': 'float16', 'mdc':'float16', 'mdc_nopoa':'float16', 'i10_ndx':'float16', 'i10_npr':'float16', 'nrd_daystoevent':'float16', 'nrd_stratum':'float16', 'nrd_visitlink':str, 'pay1':'float16', 'pl_nchs':'float16', 'i10_pr1':str, 'i10_pr2':str, 'i10_pr3':str, 'i10_pr4':str, 'i10_pr5':str, 'i10_pr6':str, 'i10_pr7':str, 'i10_pr8':str, 'i10_pr9':str, 'i10_pr10':str, 'i10_pr11':str, 'i10_pr12':str, 'i10_pr13':str, 'i10_pr14':str, 'i10_pr15':str, 'i10_pr16':str, 'i10_pr17':str, 'i10_pr18':str, 'i10_pr19':str, 'i10_pr20':str, 'i10_pr21':str, 'i10_pr22':str, 'i10_pr23':str, 'i10_pr24':str, 'i10_pr25':str, 'prday1':'float16', 'prday2':'float16', 'prday3':'float16', 'prday4':'float16', 'prday5':'float16', 'prday6':'float16', 'prday7':'float16', 'prday8':'float16', 'prday9':'float16', 'prday10':'float16', 'prday11':'float16', 'prday12':'float16', 'prday13':'float16', 'prday14':'float16', 'prday15':'float16', 'prday16':'float16', 'prday17':'float16', 'prday18':'float16', 'prday19':'float16', 'prday20':'float16', 'prday21':'float16', 'prday22':'float16', 'prday23':'float16', 'prday24':'float16', 'prday25':'float16', 'rehabtransfer':'float16', 'resident':'float16', 'samedayevent':'float16', 'totchg':'float64', 'year':'float16', 'zipinc_qrtl':'float16', 'dxver':'float16', 'prver':'float16', 'preventable_readmission':'float16', 'prev_readm_reason':'float16', 'medical_admission':'float16', 'hfrs_score':'float16', 'hfrs_severity':'float16', 'cc_score':'float16', 'cc_severity':'float16'})"
   ]
  },
  {
   "cell_type": "code",
   "execution_count": 3,
   "metadata": {},
   "outputs": [
    {
     "output_type": "execute_result",
     "data": {
      "text/plain": [
       "62472"
      ]
     },
     "metadata": {},
     "execution_count": 3
    }
   ],
   "source": [
    "# Number of unique patients in the entire file.\n",
    "len(np.unique(cohort_file['nrd_visitlink']))"
   ]
  },
  {
   "cell_type": "code",
   "execution_count": 4,
   "metadata": {},
   "outputs": [],
   "source": [
    "# Now we need to carve out the cohort by removing any patients who are younger than 18 and do not have an IBD diagnosis between January - June 2017 (the first 6 months).\n",
    "# First we'll create a new dataframe with patients who are adults (ages 18+).\n",
    "# ibd_file = pd.concat([pd.DataFrame([row],columns = row._fields) for row in tqdm(cohort_file.itertuples(index=False)) if row.age > 17]) # slower than using .loc\n",
    "ibd_file = cohort_file.loc[cohort_file['age'] > 17]"
   ]
  },
  {
   "cell_type": "code",
   "execution_count": 5,
   "metadata": {},
   "outputs": [
    {
     "output_type": "execute_result",
     "data": {
      "text/plain": [
       "59961"
      ]
     },
     "metadata": {},
     "execution_count": 5
    }
   ],
   "source": [
    "# Number of unique patients who are aged 18+.\n",
    "len(np.unique(ibd_file['nrd_visitlink']))"
   ]
  },
  {
   "cell_type": "code",
   "execution_count": 6,
   "metadata": {},
   "outputs": [
    {
     "output_type": "stream",
     "name": "stderr",
     "text": [
      "114134it [00:02, 40061.17it/s]\n"
     ]
    }
   ],
   "source": [
    "# Create a list of patient ID's who have an IBD related index hospitalization between January - June 2017 (the first 6 months).\n",
    "patient_list = []\n",
    "patient_list = [row.nrd_visitlink for row in tqdm(ibd_file.itertuples(index=False)) if row.dmonth < 7 and 'K50' in row.i10_dx1 or row.dmonth < 7 and 'K51' in row.i10_dx1 or row.dmonth < 7 and 'K50' in row.i10_dx2 or row.dmonth < 7 and 'K51' in row.i10_dx2]"
   ]
  },
  {
   "cell_type": "code",
   "execution_count": 7,
   "metadata": {},
   "outputs": [
    {
     "output_type": "execute_result",
     "data": {
      "text/plain": [
       "31918"
      ]
     },
     "metadata": {},
     "execution_count": 7
    }
   ],
   "source": [
    "# A new list of unique patient ID's from patient_list.\n",
    "unique_patients = np.unique(patient_list)\n",
    "len(unique_patients)"
   ]
  },
  {
   "cell_type": "code",
   "execution_count": 8,
   "metadata": {},
   "outputs": [
    {
     "output_type": "stream",
     "name": "stderr",
     "text": [
      "114134it [06:39, 285.56it/s]\n"
     ]
    }
   ],
   "source": [
    "# Go through the dataset and use concat to append any rows that have nrd_visitlinks in the unique_patients list to ibd_index_file (a new dataframe) because these are the patients we are looking at.\n",
    "ibd_index_file = pd.concat([pd.DataFrame([row],columns = row._fields) for row in tqdm(ibd_file.itertuples(index=False)) if row.nrd_visitlink in unique_patients])"
   ]
  },
  {
   "cell_type": "code",
   "execution_count": 9,
   "metadata": {},
   "outputs": [],
   "source": [
    "# Create a new column called 'ibd_diagnosis' and fill every row with a 0 to start.\n",
    "ibd_index_file['ibd_diagnosis'] = 0"
   ]
  },
  {
   "cell_type": "code",
   "execution_count": 10,
   "metadata": {},
   "outputs": [],
   "source": [
    "# Reset the index and drop the old index.\n",
    "ibd_index_file = ibd_index_file.reset_index(drop=True)"
   ]
  },
  {
   "cell_type": "code",
   "execution_count": 11,
   "metadata": {},
   "outputs": [
    {
     "output_type": "stream",
     "name": "stderr",
     "text": [
      "66073it [00:01, 41502.47it/s]\n"
     ]
    }
   ],
   "source": [
    "# Start with a placeholder for nrd_visitlink that is made up ('aaaaaa'). This will hold the previous rows nrd_visitlink in each iteration.\n",
    "# Keep a counter for each successive ibd_diagnosis that a patient has, initialized with 1.\n",
    "# row_num keeps track of which row we are on.\n",
    "# This loop goes through each row and compares the nrd_visitlink with that of the previous row. \n",
    "# If the current and previous nrd_visitlink are not the same and the patient has a ibd related discharge, then a 1 is populated in ibd_diagnosis. Counter reset to 1.\n",
    "# If the current and previous nrd_visitlink are the same and the patient has a idb related discharge, then the counter increments by 1 and the appropriate number is populated in\n",
    "# ibd_diagnosis (each subsequent ibd discharge adds 1 to the patients counter).\n",
    "# If the current and previous nrd_visitlink are the same and the patient does not have an ibd related discharge, then a 0 is populated in ibd_diagnosis.\n",
    "# If the current and previous nrd_visitlink are not the same and the patient does not have an idb related discharge, then a 0 is populated in ibd_diagnosis. Counter reset to 0.\n",
    "# id_placeholder is updated in all cases to the current nrd_visitlink.\n",
    "id_placeholder = 'aaaaaa'\n",
    "counter = 1\n",
    "row_num = 0\n",
    "for row in tqdm(ibd_index_file.itertuples(index=False)):\n",
    "    id_current = row.nrd_visitlink\n",
    "    if id_current != id_placeholder and 'K50' in row.i10_dx1 or id_current != id_placeholder and 'K51' in row.i10_dx1 or id_current != id_placeholder and 'K50' in row.i10_dx2 or id_current != id_placeholder and 'K51' in row.i10_dx2:\n",
    "        ibd_index_file.at[row_num, 'ibd_diagnosis'] = 1\n",
    "        id_placeholder = id_current\n",
    "        counter = 1\n",
    "    elif id_current == id_placeholder and 'K50' in row.i10_dx1 or id_current == id_placeholder and 'K51' in row.i10_dx1 or id_current == id_placeholder and 'K50' in row.i10_dx2 or id_current == id_placeholder and 'K51' in row.i10_dx2:\n",
    "        counter += 1\n",
    "        ibd_index_file.at[row_num, 'ibd_diagnosis'] = counter\n",
    "        id_placeholder = id_current\n",
    "    elif id_current == id_placeholder and 'K50' not in row.i10_dx1 or id_current == id_placeholder and 'K51' not in row.i10_dx1 or id_current == id_placeholder and 'K50' not in row.i10_dx2 or id_current == id_placeholder and 'K51' not in row.i10_dx2:\n",
    "        ibd_index_file.at[row_num, 'ibd_diagnosis'] = 0\n",
    "        id_placeholder = id_current\n",
    "    else:\n",
    "        ibd_index_file.at[row_num, 'ibd_diagnosis'] = 0\n",
    "        id_placeholder = id_current\n",
    "        counter = 0\n",
    "    row_num += 1"
   ]
  },
  {
   "cell_type": "code",
   "execution_count": 12,
   "metadata": {},
   "outputs": [],
   "source": [
    "# Create a new column called 'ibd_index_hospitalization' and fill each row with a 0.\n",
    "# Use vectorization with mask to find each index hospitalization and fill in a 1 in ibd_index_hospitalization.\n",
    "ibd_index_file['ibd_index_hospitalization'] = 0\n",
    "mask = (ibd_index_file['ibd_diagnosis'] == 1)\n",
    "ibd_index_file.loc[mask, 'ibd_index_hospitalization'] = 1"
   ]
  },
  {
   "cell_type": "code",
   "execution_count": 13,
   "metadata": {},
   "outputs": [
    {
     "output_type": "execute_result",
     "data": {
      "text/plain": [
       "    age  aweekend  died    discwt  dispuniform  dmonth  dqtr    drg  drgver  \\\n",
       "0  49.0       1.0   0.0  1.492757          1.0     6.0   2.0  386.0    34.0   \n",
       "1  63.0       0.0   0.0  1.984195          1.0     3.0   1.0  386.0    34.0   \n",
       "2  54.0       0.0   0.0  1.389702          1.0     2.0   1.0  389.0    34.0   \n",
       "3  55.0       0.0   0.0  1.442027          1.0    11.0   4.0  330.0    35.0   \n",
       "4  29.0       0.0   0.0  2.085694          1.0     1.0   1.0  386.0    34.0   \n",
       "5  65.0       0.0   0.0  1.376273          1.0     1.0   1.0  387.0    34.0   \n",
       "6  18.0       0.0   0.0  2.032179          1.0     2.0   1.0  386.0    34.0   \n",
       "7  19.0       0.0   0.0  2.032179          1.0    11.0   4.0  387.0    35.0   \n",
       "8  90.0       0.0   0.0  1.358539          5.0     3.0   1.0   92.0    34.0   \n",
       "9  90.0       0.0   0.0  1.358539          5.0     6.0   2.0  480.0    34.0   \n",
       "\n",
       "   drg_nopoa  i10_dx1 i10_dx2 i10_dx3 i10_dx4 i10_dx5 i10_dx6 i10_dx7 i10_dx8  \\\n",
       "0      386.0   K50812  G40909    J449  F17210    F329     NaN     NaN     NaN   \n",
       "1      386.0   K50912    E039   M1990    K219     I10    R630  F17210  G43909   \n",
       "2      389.0    K5669   K5010    E663    Z885   Z6826     I10   K5900    F909   \n",
       "3      330.0    K5720    K660   F3342   K5010     NaN     NaN     NaN     NaN   \n",
       "4      386.0   K50012  Z87891   Z9049    F329     NaN     NaN     NaN     NaN   \n",
       "5      387.0    K5100    E876    F419  J45909  Z95810     I10    D649     NaN   \n",
       "6      386.0   K50111   I2510    E876    E559    K219    K625     NaN     NaN   \n",
       "7      387.0    K5090  Z98890     F39     NaN     NaN     NaN     NaN     NaN   \n",
       "8       92.0      G92   K5190    H409     I10   N2889   R4701   F0390    Z954   \n",
       "9      480.0  S72141A   K5190    I080    I482    E860   N2889    E559     Z66   \n",
       "\n",
       "  i10_dx9 i10_dx10 i10_dx11 i10_dx12 i10_dx13 i10_dx14 i10_dx15 i10_dx16  \\\n",
       "0     NaN      NaN      NaN      NaN      NaN      NaN      NaN      NaN   \n",
       "1    Z885     E785   Z79891    Z7982     M549     J449    G8929      NaN   \n",
       "2   F3342     Z883    K5732      NaN      NaN      NaN      NaN      NaN   \n",
       "3     NaN      NaN      NaN      NaN      NaN      NaN      NaN      NaN   \n",
       "4     NaN      NaN      NaN      NaN      NaN      NaN      NaN      NaN   \n",
       "5     NaN      NaN      NaN      NaN      NaN      NaN      NaN      NaN   \n",
       "6     NaN      NaN      NaN      NaN      NaN      NaN      NaN      NaN   \n",
       "7     NaN      NaN      NaN      NaN      NaN      NaN      NaN      NaN   \n",
       "8    E559     R269      F05     I482     B958     N390     D751      Z66   \n",
       "9    D751    R2681    F0390    R4701     H409    G9340     E876    Z9181   \n",
       "\n",
       "  i10_dx17 i10_dx18 i10_dx19 i10_dx20 i10_dx21 i10_dx22 i10_dx23 i10_dx24  \\\n",
       "0      NaN      NaN      NaN      NaN      NaN      NaN      NaN      NaN   \n",
       "1      NaN      NaN      NaN      NaN      NaN      NaN      NaN      NaN   \n",
       "2      NaN      NaN      NaN      NaN      NaN      NaN      NaN      NaN   \n",
       "3      NaN      NaN      NaN      NaN      NaN      NaN      NaN      NaN   \n",
       "4      NaN      NaN      NaN      NaN      NaN      NaN      NaN      NaN   \n",
       "5      NaN      NaN      NaN      NaN      NaN      NaN      NaN      NaN   \n",
       "6      NaN      NaN      NaN      NaN      NaN      NaN      NaN      NaN   \n",
       "7      NaN      NaN      NaN      NaN      NaN      NaN      NaN      NaN   \n",
       "8     F329     I350      Z23      NaN      NaN      NaN      NaN      NaN   \n",
       "9   Y92129  W19XXXA     R482     Z952    Z7982      NaN      NaN      NaN   \n",
       "\n",
       "  i10_dx25 i10_dx26 i10_dx27 i10_dx28 i10_dx29 i10_dx30 i10_dx31 i10_dx32  \\\n",
       "0      NaN      NaN      NaN      NaN      NaN      NaN      NaN      NaN   \n",
       "1      NaN      NaN      NaN      NaN      NaN      NaN      NaN      NaN   \n",
       "2      NaN      NaN      NaN      NaN      NaN      NaN      NaN      NaN   \n",
       "3      NaN      NaN      NaN      NaN      NaN      NaN      NaN      NaN   \n",
       "4      NaN      NaN      NaN      NaN      NaN      NaN      NaN      NaN   \n",
       "5      NaN      NaN      NaN      NaN      NaN      NaN      NaN      NaN   \n",
       "6      NaN      NaN      NaN      NaN      NaN      NaN      NaN      NaN   \n",
       "7      NaN      NaN      NaN      NaN      NaN      NaN      NaN      NaN   \n",
       "8      NaN      NaN      NaN      NaN      NaN      NaN      NaN      NaN   \n",
       "9      NaN      NaN      NaN      NaN      NaN      NaN      NaN      NaN   \n",
       "\n",
       "  i10_dx33 i10_dx34 i10_dx35 i10_dx36 i10_dx37 i10_dx38 i10_dx39 i10_dx40  \\\n",
       "0      NaN      NaN      NaN      NaN      NaN      NaN      NaN      NaN   \n",
       "1      NaN      NaN      NaN      NaN      NaN      NaN      NaN      NaN   \n",
       "2      NaN      NaN      NaN      NaN      NaN      NaN      NaN      NaN   \n",
       "3      NaN      NaN      NaN      NaN      NaN      NaN      NaN      NaN   \n",
       "4      NaN      NaN      NaN      NaN      NaN      NaN      NaN      NaN   \n",
       "5      NaN      NaN      NaN      NaN      NaN      NaN      NaN      NaN   \n",
       "6      NaN      NaN      NaN      NaN      NaN      NaN      NaN      NaN   \n",
       "7      NaN      NaN      NaN      NaN      NaN      NaN      NaN      NaN   \n",
       "8      NaN      NaN      NaN      NaN      NaN      NaN      NaN      NaN   \n",
       "9      NaN      NaN      NaN      NaN      NaN      NaN      NaN      NaN   \n",
       "\n",
       "   elective  female  hcup_ed  hosp_nrd  los  mdc  mdc_nopoa  i10_ndx  i10_npr  \\\n",
       "0       0.0     0.0      1.0   41827.0  3.0  6.0        6.0      5.0      0.0   \n",
       "1       0.0     1.0      2.0   42416.0  2.0  6.0        6.0     15.0      0.0   \n",
       "2       0.0     0.0      2.0   43509.0  3.0  6.0        6.0     11.0      0.0   \n",
       "3       1.0     0.0      0.0   42947.0  6.0  6.0        6.0      4.0      2.0   \n",
       "4       0.0     0.0      0.0   43848.0  2.0  6.0        6.0      4.0      0.0   \n",
       "5       0.0     1.0      1.0   42871.0  3.0  6.0        6.0      7.0      0.0   \n",
       "6       0.0     1.0      1.0   44141.0  6.0  6.0        6.0      6.0      2.0   \n",
       "7       0.0     1.0      1.0   44141.0  2.0  6.0        6.0      3.0      0.0   \n",
       "8       0.0     0.0      2.0   43398.0  4.0  1.0        1.0     19.0      0.0   \n",
       "9       0.0     0.0      2.0   43398.0  7.0  8.0        8.0     21.0      1.0   \n",
       "\n",
       "   nrd_daystoevent  nrd_stratum nrd_visitlink  pay1  pl_nchs  i10_pr1  \\\n",
       "0          19296.0        452.0       e0009vi   2.0      6.0      NaN   \n",
       "1          13000.0        461.0       e0021xf   1.0      5.0      NaN   \n",
       "2          18352.0        441.0       e002hi0   3.0      1.0      NaN   \n",
       "3          18640.0        496.0       e002hi0   3.0      1.0  0T788DZ   \n",
       "4          15488.0        406.0       e002vve   3.0      4.0      NaN   \n",
       "5          17856.0        420.0       e003021   1.0      2.0      NaN   \n",
       "6          20960.0        421.0       e004bp7   3.0      4.0  0DBP8ZX   \n",
       "7          21232.0        421.0       e004bp7   3.0      6.0      NaN   \n",
       "8          24912.0        496.0       e004rkq   1.0      1.0      NaN   \n",
       "9          24992.0        496.0       e004rkq   1.0      1.0  0QS604Z   \n",
       "\n",
       "   i10_pr2 i10_pr3 i10_pr4 i10_pr5 i10_pr6 i10_pr7 i10_pr8 i10_pr9 i10_pr10  \\\n",
       "0      NaN     NaN     NaN     NaN     NaN     NaN     NaN     NaN      NaN   \n",
       "1      NaN     NaN     NaN     NaN     NaN     NaN     NaN     NaN      NaN   \n",
       "2      NaN     NaN     NaN     NaN     NaN     NaN     NaN     NaN      NaN   \n",
       "3  0DBN4ZZ     NaN     NaN     NaN     NaN     NaN     NaN     NaN      NaN   \n",
       "4      NaN     NaN     NaN     NaN     NaN     NaN     NaN     NaN      NaN   \n",
       "5      NaN     NaN     NaN     NaN     NaN     NaN     NaN     NaN      NaN   \n",
       "6  0DBN8ZX     NaN     NaN     NaN     NaN     NaN     NaN     NaN      NaN   \n",
       "7      NaN     NaN     NaN     NaN     NaN     NaN     NaN     NaN      NaN   \n",
       "8      NaN     NaN     NaN     NaN     NaN     NaN     NaN     NaN      NaN   \n",
       "9      NaN     NaN     NaN     NaN     NaN     NaN     NaN     NaN      NaN   \n",
       "\n",
       "  i10_pr11 i10_pr12 i10_pr13 i10_pr14 i10_pr15 i10_pr16 i10_pr17 i10_pr18  \\\n",
       "0      NaN      NaN      NaN      NaN      NaN      NaN      NaN      NaN   \n",
       "1      NaN      NaN      NaN      NaN      NaN      NaN      NaN      NaN   \n",
       "2      NaN      NaN      NaN      NaN      NaN      NaN      NaN      NaN   \n",
       "3      NaN      NaN      NaN      NaN      NaN      NaN      NaN      NaN   \n",
       "4      NaN      NaN      NaN      NaN      NaN      NaN      NaN      NaN   \n",
       "5      NaN      NaN      NaN      NaN      NaN      NaN      NaN      NaN   \n",
       "6      NaN      NaN      NaN      NaN      NaN      NaN      NaN      NaN   \n",
       "7      NaN      NaN      NaN      NaN      NaN      NaN      NaN      NaN   \n",
       "8      NaN      NaN      NaN      NaN      NaN      NaN      NaN      NaN   \n",
       "9      NaN      NaN      NaN      NaN      NaN      NaN      NaN      NaN   \n",
       "\n",
       "  i10_pr19 i10_pr20 i10_pr21 i10_pr22 i10_pr23 i10_pr24 i10_pr25  prday1  \\\n",
       "0      NaN      NaN      NaN      NaN      NaN      NaN      NaN     NaN   \n",
       "1      NaN      NaN      NaN      NaN      NaN      NaN      NaN     NaN   \n",
       "2      NaN      NaN      NaN      NaN      NaN      NaN      NaN     NaN   \n",
       "3      NaN      NaN      NaN      NaN      NaN      NaN      NaN     0.0   \n",
       "4      NaN      NaN      NaN      NaN      NaN      NaN      NaN     NaN   \n",
       "5      NaN      NaN      NaN      NaN      NaN      NaN      NaN     NaN   \n",
       "6      NaN      NaN      NaN      NaN      NaN      NaN      NaN     4.0   \n",
       "7      NaN      NaN      NaN      NaN      NaN      NaN      NaN     NaN   \n",
       "8      NaN      NaN      NaN      NaN      NaN      NaN      NaN     NaN   \n",
       "9      NaN      NaN      NaN      NaN      NaN      NaN      NaN     1.0   \n",
       "\n",
       "   prday2  prday3  prday4  prday5  prday6  prday7  prday8  prday9  prday10  \\\n",
       "0     NaN     NaN     NaN     NaN     NaN     NaN     NaN     NaN      NaN   \n",
       "1     NaN     NaN     NaN     NaN     NaN     NaN     NaN     NaN      NaN   \n",
       "2     NaN     NaN     NaN     NaN     NaN     NaN     NaN     NaN      NaN   \n",
       "3     0.0     NaN     NaN     NaN     NaN     NaN     NaN     NaN      NaN   \n",
       "4     NaN     NaN     NaN     NaN     NaN     NaN     NaN     NaN      NaN   \n",
       "5     NaN     NaN     NaN     NaN     NaN     NaN     NaN     NaN      NaN   \n",
       "6     4.0     NaN     NaN     NaN     NaN     NaN     NaN     NaN      NaN   \n",
       "7     NaN     NaN     NaN     NaN     NaN     NaN     NaN     NaN      NaN   \n",
       "8     NaN     NaN     NaN     NaN     NaN     NaN     NaN     NaN      NaN   \n",
       "9     NaN     NaN     NaN     NaN     NaN     NaN     NaN     NaN      NaN   \n",
       "\n",
       "   prday11  prday12  prday13  prday14  prday15  prday16  prday17  prday18  \\\n",
       "0      NaN      NaN      NaN      NaN      NaN      NaN      NaN      NaN   \n",
       "1      NaN      NaN      NaN      NaN      NaN      NaN      NaN      NaN   \n",
       "2      NaN      NaN      NaN      NaN      NaN      NaN      NaN      NaN   \n",
       "3      NaN      NaN      NaN      NaN      NaN      NaN      NaN      NaN   \n",
       "4      NaN      NaN      NaN      NaN      NaN      NaN      NaN      NaN   \n",
       "5      NaN      NaN      NaN      NaN      NaN      NaN      NaN      NaN   \n",
       "6      NaN      NaN      NaN      NaN      NaN      NaN      NaN      NaN   \n",
       "7      NaN      NaN      NaN      NaN      NaN      NaN      NaN      NaN   \n",
       "8      NaN      NaN      NaN      NaN      NaN      NaN      NaN      NaN   \n",
       "9      NaN      NaN      NaN      NaN      NaN      NaN      NaN      NaN   \n",
       "\n",
       "   prday19  prday20  prday21  prday22  prday23  prday24  prday25  \\\n",
       "0      NaN      NaN      NaN      NaN      NaN      NaN      NaN   \n",
       "1      NaN      NaN      NaN      NaN      NaN      NaN      NaN   \n",
       "2      NaN      NaN      NaN      NaN      NaN      NaN      NaN   \n",
       "3      NaN      NaN      NaN      NaN      NaN      NaN      NaN   \n",
       "4      NaN      NaN      NaN      NaN      NaN      NaN      NaN   \n",
       "5      NaN      NaN      NaN      NaN      NaN      NaN      NaN   \n",
       "6      NaN      NaN      NaN      NaN      NaN      NaN      NaN   \n",
       "7      NaN      NaN      NaN      NaN      NaN      NaN      NaN   \n",
       "8      NaN      NaN      NaN      NaN      NaN      NaN      NaN   \n",
       "9      NaN      NaN      NaN      NaN      NaN      NaN      NaN   \n",
       "\n",
       "   rehabtransfer  resident  samedayevent    totchg    year  zipinc_qrtl  \\\n",
       "0            0.0       1.0           0.0   11700.0  2017.0          2.0   \n",
       "1            0.0       1.0           0.0   38599.0  2017.0          3.0   \n",
       "2            0.0       1.0           0.0   28192.0  2017.0          4.0   \n",
       "3            0.0       1.0           0.0  103023.0  2017.0          4.0   \n",
       "4            0.0       0.0           0.0    3735.0  2017.0          1.0   \n",
       "5            0.0       1.0           0.0   27488.0  2017.0          4.0   \n",
       "6            0.0       1.0           0.0   27523.0  2017.0          3.0   \n",
       "7            0.0       1.0           0.0   15025.0  2017.0          2.0   \n",
       "8            0.0       1.0           0.0   41286.0  2017.0          4.0   \n",
       "9            0.0       1.0           0.0  135462.0  2017.0          4.0   \n",
       "\n",
       "   dxver  prver  preventable_readmission  prev_readm_reason  \\\n",
       "0   10.0   10.0                      NaN                NaN   \n",
       "1   10.0   10.0                      NaN                NaN   \n",
       "2   10.0   10.0                      NaN                NaN   \n",
       "3   10.0   10.0                      0.0                0.0   \n",
       "4   10.0   10.0                      NaN                NaN   \n",
       "5   10.0   10.0                      NaN                NaN   \n",
       "6   10.0   10.0                      NaN                NaN   \n",
       "7   10.0   10.0                      0.0                0.0   \n",
       "8   10.0   10.0                      NaN                NaN   \n",
       "9   10.0   10.0                      0.0                0.0   \n",
       "\n",
       "   medical_admission  hfrs_score  hfrs_severity  cc_score  cc_severity  \\\n",
       "0                1.0    2.000000            0.0       1.0          0.0   \n",
       "1                1.0    2.400391            0.0       1.0          0.0   \n",
       "2                1.0    1.799805            0.0       0.0          0.0   \n",
       "3                0.0    0.000000            0.0       0.0          0.0   \n",
       "4                1.0    2.000000            0.0       0.0          0.0   \n",
       "5                1.0    2.699219            0.0       2.0          0.0   \n",
       "6                1.0    3.300781            0.0       0.0          0.0   \n",
       "7                1.0    0.000000            0.0       0.0          0.0   \n",
       "8                1.0   16.593750            2.0       1.0          0.0   \n",
       "9                0.0   17.703125            2.0       1.0          0.0   \n",
       "\n",
       "   ibd_diagnosis  ibd_index_hospitalization  \n",
       "0              1                          1  \n",
       "1              1                          1  \n",
       "2              1                          1  \n",
       "3              0                          0  \n",
       "4              1                          1  \n",
       "5              1                          1  \n",
       "6              1                          1  \n",
       "7              2                          0  \n",
       "8              1                          1  \n",
       "9              2                          0  "
      ],
      "text/html": "<div>\n<style scoped>\n    .dataframe tbody tr th:only-of-type {\n        vertical-align: middle;\n    }\n\n    .dataframe tbody tr th {\n        vertical-align: top;\n    }\n\n    .dataframe thead th {\n        text-align: right;\n    }\n</style>\n<table border=\"1\" class=\"dataframe\">\n  <thead>\n    <tr style=\"text-align: right;\">\n      <th></th>\n      <th>age</th>\n      <th>aweekend</th>\n      <th>died</th>\n      <th>discwt</th>\n      <th>dispuniform</th>\n      <th>dmonth</th>\n      <th>dqtr</th>\n      <th>drg</th>\n      <th>drgver</th>\n      <th>drg_nopoa</th>\n      <th>i10_dx1</th>\n      <th>i10_dx2</th>\n      <th>i10_dx3</th>\n      <th>i10_dx4</th>\n      <th>i10_dx5</th>\n      <th>i10_dx6</th>\n      <th>i10_dx7</th>\n      <th>i10_dx8</th>\n      <th>i10_dx9</th>\n      <th>i10_dx10</th>\n      <th>i10_dx11</th>\n      <th>i10_dx12</th>\n      <th>i10_dx13</th>\n      <th>i10_dx14</th>\n      <th>i10_dx15</th>\n      <th>i10_dx16</th>\n      <th>i10_dx17</th>\n      <th>i10_dx18</th>\n      <th>i10_dx19</th>\n      <th>i10_dx20</th>\n      <th>i10_dx21</th>\n      <th>i10_dx22</th>\n      <th>i10_dx23</th>\n      <th>i10_dx24</th>\n      <th>i10_dx25</th>\n      <th>i10_dx26</th>\n      <th>i10_dx27</th>\n      <th>i10_dx28</th>\n      <th>i10_dx29</th>\n      <th>i10_dx30</th>\n      <th>i10_dx31</th>\n      <th>i10_dx32</th>\n      <th>i10_dx33</th>\n      <th>i10_dx34</th>\n      <th>i10_dx35</th>\n      <th>i10_dx36</th>\n      <th>i10_dx37</th>\n      <th>i10_dx38</th>\n      <th>i10_dx39</th>\n      <th>i10_dx40</th>\n      <th>elective</th>\n      <th>female</th>\n      <th>hcup_ed</th>\n      <th>hosp_nrd</th>\n      <th>los</th>\n      <th>mdc</th>\n      <th>mdc_nopoa</th>\n      <th>i10_ndx</th>\n      <th>i10_npr</th>\n      <th>nrd_daystoevent</th>\n      <th>nrd_stratum</th>\n      <th>nrd_visitlink</th>\n      <th>pay1</th>\n      <th>pl_nchs</th>\n      <th>i10_pr1</th>\n      <th>i10_pr2</th>\n      <th>i10_pr3</th>\n      <th>i10_pr4</th>\n      <th>i10_pr5</th>\n      <th>i10_pr6</th>\n      <th>i10_pr7</th>\n      <th>i10_pr8</th>\n      <th>i10_pr9</th>\n      <th>i10_pr10</th>\n      <th>i10_pr11</th>\n      <th>i10_pr12</th>\n      <th>i10_pr13</th>\n      <th>i10_pr14</th>\n      <th>i10_pr15</th>\n      <th>i10_pr16</th>\n      <th>i10_pr17</th>\n      <th>i10_pr18</th>\n      <th>i10_pr19</th>\n      <th>i10_pr20</th>\n      <th>i10_pr21</th>\n      <th>i10_pr22</th>\n      <th>i10_pr23</th>\n      <th>i10_pr24</th>\n      <th>i10_pr25</th>\n      <th>prday1</th>\n      <th>prday2</th>\n      <th>prday3</th>\n      <th>prday4</th>\n      <th>prday5</th>\n      <th>prday6</th>\n      <th>prday7</th>\n      <th>prday8</th>\n      <th>prday9</th>\n      <th>prday10</th>\n      <th>prday11</th>\n      <th>prday12</th>\n      <th>prday13</th>\n      <th>prday14</th>\n      <th>prday15</th>\n      <th>prday16</th>\n      <th>prday17</th>\n      <th>prday18</th>\n      <th>prday19</th>\n      <th>prday20</th>\n      <th>prday21</th>\n      <th>prday22</th>\n      <th>prday23</th>\n      <th>prday24</th>\n      <th>prday25</th>\n      <th>rehabtransfer</th>\n      <th>resident</th>\n      <th>samedayevent</th>\n      <th>totchg</th>\n      <th>year</th>\n      <th>zipinc_qrtl</th>\n      <th>dxver</th>\n      <th>prver</th>\n      <th>preventable_readmission</th>\n      <th>prev_readm_reason</th>\n      <th>medical_admission</th>\n      <th>hfrs_score</th>\n      <th>hfrs_severity</th>\n      <th>cc_score</th>\n      <th>cc_severity</th>\n      <th>ibd_diagnosis</th>\n      <th>ibd_index_hospitalization</th>\n    </tr>\n  </thead>\n  <tbody>\n    <tr>\n      <th>0</th>\n      <td>49.0</td>\n      <td>1.0</td>\n      <td>0.0</td>\n      <td>1.492757</td>\n      <td>1.0</td>\n      <td>6.0</td>\n      <td>2.0</td>\n      <td>386.0</td>\n      <td>34.0</td>\n      <td>386.0</td>\n      <td>K50812</td>\n      <td>G40909</td>\n      <td>J449</td>\n      <td>F17210</td>\n      <td>F329</td>\n      <td>NaN</td>\n      <td>NaN</td>\n      <td>NaN</td>\n      <td>NaN</td>\n      <td>NaN</td>\n      <td>NaN</td>\n      <td>NaN</td>\n      <td>NaN</td>\n      <td>NaN</td>\n      <td>NaN</td>\n      <td>NaN</td>\n      <td>NaN</td>\n      <td>NaN</td>\n      <td>NaN</td>\n      <td>NaN</td>\n      <td>NaN</td>\n      <td>NaN</td>\n      <td>NaN</td>\n      <td>NaN</td>\n      <td>NaN</td>\n      <td>NaN</td>\n      <td>NaN</td>\n      <td>NaN</td>\n      <td>NaN</td>\n      <td>NaN</td>\n      <td>NaN</td>\n      <td>NaN</td>\n      <td>NaN</td>\n      <td>NaN</td>\n      <td>NaN</td>\n      <td>NaN</td>\n      <td>NaN</td>\n      <td>NaN</td>\n      <td>NaN</td>\n      <td>NaN</td>\n      <td>0.0</td>\n      <td>0.0</td>\n      <td>1.0</td>\n      <td>41827.0</td>\n      <td>3.0</td>\n      <td>6.0</td>\n      <td>6.0</td>\n      <td>5.0</td>\n      <td>0.0</td>\n      <td>19296.0</td>\n      <td>452.0</td>\n      <td>e0009vi</td>\n      <td>2.0</td>\n      <td>6.0</td>\n      <td>NaN</td>\n      <td>NaN</td>\n      <td>NaN</td>\n      <td>NaN</td>\n      <td>NaN</td>\n      <td>NaN</td>\n      <td>NaN</td>\n      <td>NaN</td>\n      <td>NaN</td>\n      <td>NaN</td>\n      <td>NaN</td>\n      <td>NaN</td>\n      <td>NaN</td>\n      <td>NaN</td>\n      <td>NaN</td>\n      <td>NaN</td>\n      <td>NaN</td>\n      <td>NaN</td>\n      <td>NaN</td>\n      <td>NaN</td>\n      <td>NaN</td>\n      <td>NaN</td>\n      <td>NaN</td>\n      <td>NaN</td>\n      <td>NaN</td>\n      <td>NaN</td>\n      <td>NaN</td>\n      <td>NaN</td>\n      <td>NaN</td>\n      <td>NaN</td>\n      <td>NaN</td>\n      <td>NaN</td>\n      <td>NaN</td>\n      <td>NaN</td>\n      <td>NaN</td>\n      <td>NaN</td>\n      <td>NaN</td>\n      <td>NaN</td>\n      <td>NaN</td>\n      <td>NaN</td>\n      <td>NaN</td>\n      <td>NaN</td>\n      <td>NaN</td>\n      <td>NaN</td>\n      <td>NaN</td>\n      <td>NaN</td>\n      <td>NaN</td>\n      <td>NaN</td>\n      <td>NaN</td>\n      <td>NaN</td>\n      <td>0.0</td>\n      <td>1.0</td>\n      <td>0.0</td>\n      <td>11700.0</td>\n      <td>2017.0</td>\n      <td>2.0</td>\n      <td>10.0</td>\n      <td>10.0</td>\n      <td>NaN</td>\n      <td>NaN</td>\n      <td>1.0</td>\n      <td>2.000000</td>\n      <td>0.0</td>\n      <td>1.0</td>\n      <td>0.0</td>\n      <td>1</td>\n      <td>1</td>\n    </tr>\n    <tr>\n      <th>1</th>\n      <td>63.0</td>\n      <td>0.0</td>\n      <td>0.0</td>\n      <td>1.984195</td>\n      <td>1.0</td>\n      <td>3.0</td>\n      <td>1.0</td>\n      <td>386.0</td>\n      <td>34.0</td>\n      <td>386.0</td>\n      <td>K50912</td>\n      <td>E039</td>\n      <td>M1990</td>\n      <td>K219</td>\n      <td>I10</td>\n      <td>R630</td>\n      <td>F17210</td>\n      <td>G43909</td>\n      <td>Z885</td>\n      <td>E785</td>\n      <td>Z79891</td>\n      <td>Z7982</td>\n      <td>M549</td>\n      <td>J449</td>\n      <td>G8929</td>\n      <td>NaN</td>\n      <td>NaN</td>\n      <td>NaN</td>\n      <td>NaN</td>\n      <td>NaN</td>\n      <td>NaN</td>\n      <td>NaN</td>\n      <td>NaN</td>\n      <td>NaN</td>\n      <td>NaN</td>\n      <td>NaN</td>\n      <td>NaN</td>\n      <td>NaN</td>\n      <td>NaN</td>\n      <td>NaN</td>\n      <td>NaN</td>\n      <td>NaN</td>\n      <td>NaN</td>\n      <td>NaN</td>\n      <td>NaN</td>\n      <td>NaN</td>\n      <td>NaN</td>\n      <td>NaN</td>\n      <td>NaN</td>\n      <td>NaN</td>\n      <td>0.0</td>\n      <td>1.0</td>\n      <td>2.0</td>\n      <td>42416.0</td>\n      <td>2.0</td>\n      <td>6.0</td>\n      <td>6.0</td>\n      <td>15.0</td>\n      <td>0.0</td>\n      <td>13000.0</td>\n      <td>461.0</td>\n      <td>e0021xf</td>\n      <td>1.0</td>\n      <td>5.0</td>\n      <td>NaN</td>\n      <td>NaN</td>\n      <td>NaN</td>\n      <td>NaN</td>\n      <td>NaN</td>\n      <td>NaN</td>\n      <td>NaN</td>\n      <td>NaN</td>\n      <td>NaN</td>\n      <td>NaN</td>\n      <td>NaN</td>\n      <td>NaN</td>\n      <td>NaN</td>\n      <td>NaN</td>\n      <td>NaN</td>\n      <td>NaN</td>\n      <td>NaN</td>\n      <td>NaN</td>\n      <td>NaN</td>\n      <td>NaN</td>\n      <td>NaN</td>\n      <td>NaN</td>\n      <td>NaN</td>\n      <td>NaN</td>\n      <td>NaN</td>\n      <td>NaN</td>\n      <td>NaN</td>\n      <td>NaN</td>\n      <td>NaN</td>\n      <td>NaN</td>\n      <td>NaN</td>\n      <td>NaN</td>\n      <td>NaN</td>\n      <td>NaN</td>\n      <td>NaN</td>\n      <td>NaN</td>\n      <td>NaN</td>\n      <td>NaN</td>\n      <td>NaN</td>\n      <td>NaN</td>\n      <td>NaN</td>\n      <td>NaN</td>\n      <td>NaN</td>\n      <td>NaN</td>\n      <td>NaN</td>\n      <td>NaN</td>\n      <td>NaN</td>\n      <td>NaN</td>\n      <td>NaN</td>\n      <td>NaN</td>\n      <td>0.0</td>\n      <td>1.0</td>\n      <td>0.0</td>\n      <td>38599.0</td>\n      <td>2017.0</td>\n      <td>3.0</td>\n      <td>10.0</td>\n      <td>10.0</td>\n      <td>NaN</td>\n      <td>NaN</td>\n      <td>1.0</td>\n      <td>2.400391</td>\n      <td>0.0</td>\n      <td>1.0</td>\n      <td>0.0</td>\n      <td>1</td>\n      <td>1</td>\n    </tr>\n    <tr>\n      <th>2</th>\n      <td>54.0</td>\n      <td>0.0</td>\n      <td>0.0</td>\n      <td>1.389702</td>\n      <td>1.0</td>\n      <td>2.0</td>\n      <td>1.0</td>\n      <td>389.0</td>\n      <td>34.0</td>\n      <td>389.0</td>\n      <td>K5669</td>\n      <td>K5010</td>\n      <td>E663</td>\n      <td>Z885</td>\n      <td>Z6826</td>\n      <td>I10</td>\n      <td>K5900</td>\n      <td>F909</td>\n      <td>F3342</td>\n      <td>Z883</td>\n      <td>K5732</td>\n      <td>NaN</td>\n      <td>NaN</td>\n      <td>NaN</td>\n      <td>NaN</td>\n      <td>NaN</td>\n      <td>NaN</td>\n      <td>NaN</td>\n      <td>NaN</td>\n      <td>NaN</td>\n      <td>NaN</td>\n      <td>NaN</td>\n      <td>NaN</td>\n      <td>NaN</td>\n      <td>NaN</td>\n      <td>NaN</td>\n      <td>NaN</td>\n      <td>NaN</td>\n      <td>NaN</td>\n      <td>NaN</td>\n      <td>NaN</td>\n      <td>NaN</td>\n      <td>NaN</td>\n      <td>NaN</td>\n      <td>NaN</td>\n      <td>NaN</td>\n      <td>NaN</td>\n      <td>NaN</td>\n      <td>NaN</td>\n      <td>NaN</td>\n      <td>0.0</td>\n      <td>0.0</td>\n      <td>2.0</td>\n      <td>43509.0</td>\n      <td>3.0</td>\n      <td>6.0</td>\n      <td>6.0</td>\n      <td>11.0</td>\n      <td>0.0</td>\n      <td>18352.0</td>\n      <td>441.0</td>\n      <td>e002hi0</td>\n      <td>3.0</td>\n      <td>1.0</td>\n      <td>NaN</td>\n      <td>NaN</td>\n      <td>NaN</td>\n      <td>NaN</td>\n      <td>NaN</td>\n      <td>NaN</td>\n      <td>NaN</td>\n      <td>NaN</td>\n      <td>NaN</td>\n      <td>NaN</td>\n      <td>NaN</td>\n      <td>NaN</td>\n      <td>NaN</td>\n      <td>NaN</td>\n      <td>NaN</td>\n      <td>NaN</td>\n      <td>NaN</td>\n      <td>NaN</td>\n      <td>NaN</td>\n      <td>NaN</td>\n      <td>NaN</td>\n      <td>NaN</td>\n      <td>NaN</td>\n      <td>NaN</td>\n      <td>NaN</td>\n      <td>NaN</td>\n      <td>NaN</td>\n      <td>NaN</td>\n      <td>NaN</td>\n      <td>NaN</td>\n      <td>NaN</td>\n      <td>NaN</td>\n      <td>NaN</td>\n      <td>NaN</td>\n      <td>NaN</td>\n      <td>NaN</td>\n      <td>NaN</td>\n      <td>NaN</td>\n      <td>NaN</td>\n      <td>NaN</td>\n      <td>NaN</td>\n      <td>NaN</td>\n      <td>NaN</td>\n      <td>NaN</td>\n      <td>NaN</td>\n      <td>NaN</td>\n      <td>NaN</td>\n      <td>NaN</td>\n      <td>NaN</td>\n      <td>NaN</td>\n      <td>0.0</td>\n      <td>1.0</td>\n      <td>0.0</td>\n      <td>28192.0</td>\n      <td>2017.0</td>\n      <td>4.0</td>\n      <td>10.0</td>\n      <td>10.0</td>\n      <td>NaN</td>\n      <td>NaN</td>\n      <td>1.0</td>\n      <td>1.799805</td>\n      <td>0.0</td>\n      <td>0.0</td>\n      <td>0.0</td>\n      <td>1</td>\n      <td>1</td>\n    </tr>\n    <tr>\n      <th>3</th>\n      <td>55.0</td>\n      <td>0.0</td>\n      <td>0.0</td>\n      <td>1.442027</td>\n      <td>1.0</td>\n      <td>11.0</td>\n      <td>4.0</td>\n      <td>330.0</td>\n      <td>35.0</td>\n      <td>330.0</td>\n      <td>K5720</td>\n      <td>K660</td>\n      <td>F3342</td>\n      <td>K5010</td>\n      <td>NaN</td>\n      <td>NaN</td>\n      <td>NaN</td>\n      <td>NaN</td>\n      <td>NaN</td>\n      <td>NaN</td>\n      <td>NaN</td>\n      <td>NaN</td>\n      <td>NaN</td>\n      <td>NaN</td>\n      <td>NaN</td>\n      <td>NaN</td>\n      <td>NaN</td>\n      <td>NaN</td>\n      <td>NaN</td>\n      <td>NaN</td>\n      <td>NaN</td>\n      <td>NaN</td>\n      <td>NaN</td>\n      <td>NaN</td>\n      <td>NaN</td>\n      <td>NaN</td>\n      <td>NaN</td>\n      <td>NaN</td>\n      <td>NaN</td>\n      <td>NaN</td>\n      <td>NaN</td>\n      <td>NaN</td>\n      <td>NaN</td>\n      <td>NaN</td>\n      <td>NaN</td>\n      <td>NaN</td>\n      <td>NaN</td>\n      <td>NaN</td>\n      <td>NaN</td>\n      <td>NaN</td>\n      <td>1.0</td>\n      <td>0.0</td>\n      <td>0.0</td>\n      <td>42947.0</td>\n      <td>6.0</td>\n      <td>6.0</td>\n      <td>6.0</td>\n      <td>4.0</td>\n      <td>2.0</td>\n      <td>18640.0</td>\n      <td>496.0</td>\n      <td>e002hi0</td>\n      <td>3.0</td>\n      <td>1.0</td>\n      <td>0T788DZ</td>\n      <td>0DBN4ZZ</td>\n      <td>NaN</td>\n      <td>NaN</td>\n      <td>NaN</td>\n      <td>NaN</td>\n      <td>NaN</td>\n      <td>NaN</td>\n      <td>NaN</td>\n      <td>NaN</td>\n      <td>NaN</td>\n      <td>NaN</td>\n      <td>NaN</td>\n      <td>NaN</td>\n      <td>NaN</td>\n      <td>NaN</td>\n      <td>NaN</td>\n      <td>NaN</td>\n      <td>NaN</td>\n      <td>NaN</td>\n      <td>NaN</td>\n      <td>NaN</td>\n      <td>NaN</td>\n      <td>NaN</td>\n      <td>NaN</td>\n      <td>0.0</td>\n      <td>0.0</td>\n      <td>NaN</td>\n      <td>NaN</td>\n      <td>NaN</td>\n      <td>NaN</td>\n      <td>NaN</td>\n      <td>NaN</td>\n      <td>NaN</td>\n      <td>NaN</td>\n      <td>NaN</td>\n      <td>NaN</td>\n      <td>NaN</td>\n      <td>NaN</td>\n      <td>NaN</td>\n      <td>NaN</td>\n      <td>NaN</td>\n      <td>NaN</td>\n      <td>NaN</td>\n      <td>NaN</td>\n      <td>NaN</td>\n      <td>NaN</td>\n      <td>NaN</td>\n      <td>NaN</td>\n      <td>NaN</td>\n      <td>0.0</td>\n      <td>1.0</td>\n      <td>0.0</td>\n      <td>103023.0</td>\n      <td>2017.0</td>\n      <td>4.0</td>\n      <td>10.0</td>\n      <td>10.0</td>\n      <td>0.0</td>\n      <td>0.0</td>\n      <td>0.0</td>\n      <td>0.000000</td>\n      <td>0.0</td>\n      <td>0.0</td>\n      <td>0.0</td>\n      <td>0</td>\n      <td>0</td>\n    </tr>\n    <tr>\n      <th>4</th>\n      <td>29.0</td>\n      <td>0.0</td>\n      <td>0.0</td>\n      <td>2.085694</td>\n      <td>1.0</td>\n      <td>1.0</td>\n      <td>1.0</td>\n      <td>386.0</td>\n      <td>34.0</td>\n      <td>386.0</td>\n      <td>K50012</td>\n      <td>Z87891</td>\n      <td>Z9049</td>\n      <td>F329</td>\n      <td>NaN</td>\n      <td>NaN</td>\n      <td>NaN</td>\n      <td>NaN</td>\n      <td>NaN</td>\n      <td>NaN</td>\n      <td>NaN</td>\n      <td>NaN</td>\n      <td>NaN</td>\n      <td>NaN</td>\n      <td>NaN</td>\n      <td>NaN</td>\n      <td>NaN</td>\n      <td>NaN</td>\n      <td>NaN</td>\n      <td>NaN</td>\n      <td>NaN</td>\n      <td>NaN</td>\n      <td>NaN</td>\n      <td>NaN</td>\n      <td>NaN</td>\n      <td>NaN</td>\n      <td>NaN</td>\n      <td>NaN</td>\n      <td>NaN</td>\n      <td>NaN</td>\n      <td>NaN</td>\n      <td>NaN</td>\n      <td>NaN</td>\n      <td>NaN</td>\n      <td>NaN</td>\n      <td>NaN</td>\n      <td>NaN</td>\n      <td>NaN</td>\n      <td>NaN</td>\n      <td>NaN</td>\n      <td>0.0</td>\n      <td>0.0</td>\n      <td>0.0</td>\n      <td>43848.0</td>\n      <td>2.0</td>\n      <td>6.0</td>\n      <td>6.0</td>\n      <td>4.0</td>\n      <td>0.0</td>\n      <td>15488.0</td>\n      <td>406.0</td>\n      <td>e002vve</td>\n      <td>3.0</td>\n      <td>4.0</td>\n      <td>NaN</td>\n      <td>NaN</td>\n      <td>NaN</td>\n      <td>NaN</td>\n      <td>NaN</td>\n      <td>NaN</td>\n      <td>NaN</td>\n      <td>NaN</td>\n      <td>NaN</td>\n      <td>NaN</td>\n      <td>NaN</td>\n      <td>NaN</td>\n      <td>NaN</td>\n      <td>NaN</td>\n      <td>NaN</td>\n      <td>NaN</td>\n      <td>NaN</td>\n      <td>NaN</td>\n      <td>NaN</td>\n      <td>NaN</td>\n      <td>NaN</td>\n      <td>NaN</td>\n      <td>NaN</td>\n      <td>NaN</td>\n      <td>NaN</td>\n      <td>NaN</td>\n      <td>NaN</td>\n      <td>NaN</td>\n      <td>NaN</td>\n      <td>NaN</td>\n      <td>NaN</td>\n      <td>NaN</td>\n      <td>NaN</td>\n      <td>NaN</td>\n      <td>NaN</td>\n      <td>NaN</td>\n      <td>NaN</td>\n      <td>NaN</td>\n      <td>NaN</td>\n      <td>NaN</td>\n      <td>NaN</td>\n      <td>NaN</td>\n      <td>NaN</td>\n      <td>NaN</td>\n      <td>NaN</td>\n      <td>NaN</td>\n      <td>NaN</td>\n      <td>NaN</td>\n      <td>NaN</td>\n      <td>NaN</td>\n      <td>0.0</td>\n      <td>0.0</td>\n      <td>0.0</td>\n      <td>3735.0</td>\n      <td>2017.0</td>\n      <td>1.0</td>\n      <td>10.0</td>\n      <td>10.0</td>\n      <td>NaN</td>\n      <td>NaN</td>\n      <td>1.0</td>\n      <td>2.000000</td>\n      <td>0.0</td>\n      <td>0.0</td>\n      <td>0.0</td>\n      <td>1</td>\n      <td>1</td>\n    </tr>\n    <tr>\n      <th>5</th>\n      <td>65.0</td>\n      <td>0.0</td>\n      <td>0.0</td>\n      <td>1.376273</td>\n      <td>1.0</td>\n      <td>1.0</td>\n      <td>1.0</td>\n      <td>387.0</td>\n      <td>34.0</td>\n      <td>387.0</td>\n      <td>K5100</td>\n      <td>E876</td>\n      <td>F419</td>\n      <td>J45909</td>\n      <td>Z95810</td>\n      <td>I10</td>\n      <td>D649</td>\n      <td>NaN</td>\n      <td>NaN</td>\n      <td>NaN</td>\n      <td>NaN</td>\n      <td>NaN</td>\n      <td>NaN</td>\n      <td>NaN</td>\n      <td>NaN</td>\n      <td>NaN</td>\n      <td>NaN</td>\n      <td>NaN</td>\n      <td>NaN</td>\n      <td>NaN</td>\n      <td>NaN</td>\n      <td>NaN</td>\n      <td>NaN</td>\n      <td>NaN</td>\n      <td>NaN</td>\n      <td>NaN</td>\n      <td>NaN</td>\n      <td>NaN</td>\n      <td>NaN</td>\n      <td>NaN</td>\n      <td>NaN</td>\n      <td>NaN</td>\n      <td>NaN</td>\n      <td>NaN</td>\n      <td>NaN</td>\n      <td>NaN</td>\n      <td>NaN</td>\n      <td>NaN</td>\n      <td>NaN</td>\n      <td>NaN</td>\n      <td>0.0</td>\n      <td>1.0</td>\n      <td>1.0</td>\n      <td>42871.0</td>\n      <td>3.0</td>\n      <td>6.0</td>\n      <td>6.0</td>\n      <td>7.0</td>\n      <td>0.0</td>\n      <td>17856.0</td>\n      <td>420.0</td>\n      <td>e003021</td>\n      <td>1.0</td>\n      <td>2.0</td>\n      <td>NaN</td>\n      <td>NaN</td>\n      <td>NaN</td>\n      <td>NaN</td>\n      <td>NaN</td>\n      <td>NaN</td>\n      <td>NaN</td>\n      <td>NaN</td>\n      <td>NaN</td>\n      <td>NaN</td>\n      <td>NaN</td>\n      <td>NaN</td>\n      <td>NaN</td>\n      <td>NaN</td>\n      <td>NaN</td>\n      <td>NaN</td>\n      <td>NaN</td>\n      <td>NaN</td>\n      <td>NaN</td>\n      <td>NaN</td>\n      <td>NaN</td>\n      <td>NaN</td>\n      <td>NaN</td>\n      <td>NaN</td>\n      <td>NaN</td>\n      <td>NaN</td>\n      <td>NaN</td>\n      <td>NaN</td>\n      <td>NaN</td>\n      <td>NaN</td>\n      <td>NaN</td>\n      <td>NaN</td>\n      <td>NaN</td>\n      <td>NaN</td>\n      <td>NaN</td>\n      <td>NaN</td>\n      <td>NaN</td>\n      <td>NaN</td>\n      <td>NaN</td>\n      <td>NaN</td>\n      <td>NaN</td>\n      <td>NaN</td>\n      <td>NaN</td>\n      <td>NaN</td>\n      <td>NaN</td>\n      <td>NaN</td>\n      <td>NaN</td>\n      <td>NaN</td>\n      <td>NaN</td>\n      <td>NaN</td>\n      <td>0.0</td>\n      <td>1.0</td>\n      <td>0.0</td>\n      <td>27488.0</td>\n      <td>2017.0</td>\n      <td>4.0</td>\n      <td>10.0</td>\n      <td>10.0</td>\n      <td>NaN</td>\n      <td>NaN</td>\n      <td>1.0</td>\n      <td>2.699219</td>\n      <td>0.0</td>\n      <td>2.0</td>\n      <td>0.0</td>\n      <td>1</td>\n      <td>1</td>\n    </tr>\n    <tr>\n      <th>6</th>\n      <td>18.0</td>\n      <td>0.0</td>\n      <td>0.0</td>\n      <td>2.032179</td>\n      <td>1.0</td>\n      <td>2.0</td>\n      <td>1.0</td>\n      <td>386.0</td>\n      <td>34.0</td>\n      <td>386.0</td>\n      <td>K50111</td>\n      <td>I2510</td>\n      <td>E876</td>\n      <td>E559</td>\n      <td>K219</td>\n      <td>K625</td>\n      <td>NaN</td>\n      <td>NaN</td>\n      <td>NaN</td>\n      <td>NaN</td>\n      <td>NaN</td>\n      <td>NaN</td>\n      <td>NaN</td>\n      <td>NaN</td>\n      <td>NaN</td>\n      <td>NaN</td>\n      <td>NaN</td>\n      <td>NaN</td>\n      <td>NaN</td>\n      <td>NaN</td>\n      <td>NaN</td>\n      <td>NaN</td>\n      <td>NaN</td>\n      <td>NaN</td>\n      <td>NaN</td>\n      <td>NaN</td>\n      <td>NaN</td>\n      <td>NaN</td>\n      <td>NaN</td>\n      <td>NaN</td>\n      <td>NaN</td>\n      <td>NaN</td>\n      <td>NaN</td>\n      <td>NaN</td>\n      <td>NaN</td>\n      <td>NaN</td>\n      <td>NaN</td>\n      <td>NaN</td>\n      <td>NaN</td>\n      <td>NaN</td>\n      <td>0.0</td>\n      <td>1.0</td>\n      <td>1.0</td>\n      <td>44141.0</td>\n      <td>6.0</td>\n      <td>6.0</td>\n      <td>6.0</td>\n      <td>6.0</td>\n      <td>2.0</td>\n      <td>20960.0</td>\n      <td>421.0</td>\n      <td>e004bp7</td>\n      <td>3.0</td>\n      <td>4.0</td>\n      <td>0DBP8ZX</td>\n      <td>0DBN8ZX</td>\n      <td>NaN</td>\n      <td>NaN</td>\n      <td>NaN</td>\n      <td>NaN</td>\n      <td>NaN</td>\n      <td>NaN</td>\n      <td>NaN</td>\n      <td>NaN</td>\n      <td>NaN</td>\n      <td>NaN</td>\n      <td>NaN</td>\n      <td>NaN</td>\n      <td>NaN</td>\n      <td>NaN</td>\n      <td>NaN</td>\n      <td>NaN</td>\n      <td>NaN</td>\n      <td>NaN</td>\n      <td>NaN</td>\n      <td>NaN</td>\n      <td>NaN</td>\n      <td>NaN</td>\n      <td>NaN</td>\n      <td>4.0</td>\n      <td>4.0</td>\n      <td>NaN</td>\n      <td>NaN</td>\n      <td>NaN</td>\n      <td>NaN</td>\n      <td>NaN</td>\n      <td>NaN</td>\n      <td>NaN</td>\n      <td>NaN</td>\n      <td>NaN</td>\n      <td>NaN</td>\n      <td>NaN</td>\n      <td>NaN</td>\n      <td>NaN</td>\n      <td>NaN</td>\n      <td>NaN</td>\n      <td>NaN</td>\n      <td>NaN</td>\n      <td>NaN</td>\n      <td>NaN</td>\n      <td>NaN</td>\n      <td>NaN</td>\n      <td>NaN</td>\n      <td>NaN</td>\n      <td>0.0</td>\n      <td>1.0</td>\n      <td>0.0</td>\n      <td>27523.0</td>\n      <td>2017.0</td>\n      <td>3.0</td>\n      <td>10.0</td>\n      <td>10.0</td>\n      <td>NaN</td>\n      <td>NaN</td>\n      <td>1.0</td>\n      <td>3.300781</td>\n      <td>0.0</td>\n      <td>0.0</td>\n      <td>0.0</td>\n      <td>1</td>\n      <td>1</td>\n    </tr>\n    <tr>\n      <th>7</th>\n      <td>19.0</td>\n      <td>0.0</td>\n      <td>0.0</td>\n      <td>2.032179</td>\n      <td>1.0</td>\n      <td>11.0</td>\n      <td>4.0</td>\n      <td>387.0</td>\n      <td>35.0</td>\n      <td>387.0</td>\n      <td>K5090</td>\n      <td>Z98890</td>\n      <td>F39</td>\n      <td>NaN</td>\n      <td>NaN</td>\n      <td>NaN</td>\n      <td>NaN</td>\n      <td>NaN</td>\n      <td>NaN</td>\n      <td>NaN</td>\n      <td>NaN</td>\n      <td>NaN</td>\n      <td>NaN</td>\n      <td>NaN</td>\n      <td>NaN</td>\n      <td>NaN</td>\n      <td>NaN</td>\n      <td>NaN</td>\n      <td>NaN</td>\n      <td>NaN</td>\n      <td>NaN</td>\n      <td>NaN</td>\n      <td>NaN</td>\n      <td>NaN</td>\n      <td>NaN</td>\n      <td>NaN</td>\n      <td>NaN</td>\n      <td>NaN</td>\n      <td>NaN</td>\n      <td>NaN</td>\n      <td>NaN</td>\n      <td>NaN</td>\n      <td>NaN</td>\n      <td>NaN</td>\n      <td>NaN</td>\n      <td>NaN</td>\n      <td>NaN</td>\n      <td>NaN</td>\n      <td>NaN</td>\n      <td>NaN</td>\n      <td>0.0</td>\n      <td>1.0</td>\n      <td>1.0</td>\n      <td>44141.0</td>\n      <td>2.0</td>\n      <td>6.0</td>\n      <td>6.0</td>\n      <td>3.0</td>\n      <td>0.0</td>\n      <td>21232.0</td>\n      <td>421.0</td>\n      <td>e004bp7</td>\n      <td>3.0</td>\n      <td>6.0</td>\n      <td>NaN</td>\n      <td>NaN</td>\n      <td>NaN</td>\n      <td>NaN</td>\n      <td>NaN</td>\n      <td>NaN</td>\n      <td>NaN</td>\n      <td>NaN</td>\n      <td>NaN</td>\n      <td>NaN</td>\n      <td>NaN</td>\n      <td>NaN</td>\n      <td>NaN</td>\n      <td>NaN</td>\n      <td>NaN</td>\n      <td>NaN</td>\n      <td>NaN</td>\n      <td>NaN</td>\n      <td>NaN</td>\n      <td>NaN</td>\n      <td>NaN</td>\n      <td>NaN</td>\n      <td>NaN</td>\n      <td>NaN</td>\n      <td>NaN</td>\n      <td>NaN</td>\n      <td>NaN</td>\n      <td>NaN</td>\n      <td>NaN</td>\n      <td>NaN</td>\n      <td>NaN</td>\n      <td>NaN</td>\n      <td>NaN</td>\n      <td>NaN</td>\n      <td>NaN</td>\n      <td>NaN</td>\n      <td>NaN</td>\n      <td>NaN</td>\n      <td>NaN</td>\n      <td>NaN</td>\n      <td>NaN</td>\n      <td>NaN</td>\n      <td>NaN</td>\n      <td>NaN</td>\n      <td>NaN</td>\n      <td>NaN</td>\n      <td>NaN</td>\n      <td>NaN</td>\n      <td>NaN</td>\n      <td>NaN</td>\n      <td>0.0</td>\n      <td>1.0</td>\n      <td>0.0</td>\n      <td>15025.0</td>\n      <td>2017.0</td>\n      <td>2.0</td>\n      <td>10.0</td>\n      <td>10.0</td>\n      <td>0.0</td>\n      <td>0.0</td>\n      <td>1.0</td>\n      <td>0.000000</td>\n      <td>0.0</td>\n      <td>0.0</td>\n      <td>0.0</td>\n      <td>2</td>\n      <td>0</td>\n    </tr>\n    <tr>\n      <th>8</th>\n      <td>90.0</td>\n      <td>0.0</td>\n      <td>0.0</td>\n      <td>1.358539</td>\n      <td>5.0</td>\n      <td>3.0</td>\n      <td>1.0</td>\n      <td>92.0</td>\n      <td>34.0</td>\n      <td>92.0</td>\n      <td>G92</td>\n      <td>K5190</td>\n      <td>H409</td>\n      <td>I10</td>\n      <td>N2889</td>\n      <td>R4701</td>\n      <td>F0390</td>\n      <td>Z954</td>\n      <td>E559</td>\n      <td>R269</td>\n      <td>F05</td>\n      <td>I482</td>\n      <td>B958</td>\n      <td>N390</td>\n      <td>D751</td>\n      <td>Z66</td>\n      <td>F329</td>\n      <td>I350</td>\n      <td>Z23</td>\n      <td>NaN</td>\n      <td>NaN</td>\n      <td>NaN</td>\n      <td>NaN</td>\n      <td>NaN</td>\n      <td>NaN</td>\n      <td>NaN</td>\n      <td>NaN</td>\n      <td>NaN</td>\n      <td>NaN</td>\n      <td>NaN</td>\n      <td>NaN</td>\n      <td>NaN</td>\n      <td>NaN</td>\n      <td>NaN</td>\n      <td>NaN</td>\n      <td>NaN</td>\n      <td>NaN</td>\n      <td>NaN</td>\n      <td>NaN</td>\n      <td>NaN</td>\n      <td>0.0</td>\n      <td>0.0</td>\n      <td>2.0</td>\n      <td>43398.0</td>\n      <td>4.0</td>\n      <td>1.0</td>\n      <td>1.0</td>\n      <td>19.0</td>\n      <td>0.0</td>\n      <td>24912.0</td>\n      <td>496.0</td>\n      <td>e004rkq</td>\n      <td>1.0</td>\n      <td>1.0</td>\n      <td>NaN</td>\n      <td>NaN</td>\n      <td>NaN</td>\n      <td>NaN</td>\n      <td>NaN</td>\n      <td>NaN</td>\n      <td>NaN</td>\n      <td>NaN</td>\n      <td>NaN</td>\n      <td>NaN</td>\n      <td>NaN</td>\n      <td>NaN</td>\n      <td>NaN</td>\n      <td>NaN</td>\n      <td>NaN</td>\n      <td>NaN</td>\n      <td>NaN</td>\n      <td>NaN</td>\n      <td>NaN</td>\n      <td>NaN</td>\n      <td>NaN</td>\n      <td>NaN</td>\n      <td>NaN</td>\n      <td>NaN</td>\n      <td>NaN</td>\n      <td>NaN</td>\n      <td>NaN</td>\n      <td>NaN</td>\n      <td>NaN</td>\n      <td>NaN</td>\n      <td>NaN</td>\n      <td>NaN</td>\n      <td>NaN</td>\n      <td>NaN</td>\n      <td>NaN</td>\n      <td>NaN</td>\n      <td>NaN</td>\n      <td>NaN</td>\n      <td>NaN</td>\n      <td>NaN</td>\n      <td>NaN</td>\n      <td>NaN</td>\n      <td>NaN</td>\n      <td>NaN</td>\n      <td>NaN</td>\n      <td>NaN</td>\n      <td>NaN</td>\n      <td>NaN</td>\n      <td>NaN</td>\n      <td>NaN</td>\n      <td>0.0</td>\n      <td>1.0</td>\n      <td>0.0</td>\n      <td>41286.0</td>\n      <td>2017.0</td>\n      <td>4.0</td>\n      <td>10.0</td>\n      <td>10.0</td>\n      <td>NaN</td>\n      <td>NaN</td>\n      <td>1.0</td>\n      <td>16.593750</td>\n      <td>2.0</td>\n      <td>1.0</td>\n      <td>0.0</td>\n      <td>1</td>\n      <td>1</td>\n    </tr>\n    <tr>\n      <th>9</th>\n      <td>90.0</td>\n      <td>0.0</td>\n      <td>0.0</td>\n      <td>1.358539</td>\n      <td>5.0</td>\n      <td>6.0</td>\n      <td>2.0</td>\n      <td>480.0</td>\n      <td>34.0</td>\n      <td>480.0</td>\n      <td>S72141A</td>\n      <td>K5190</td>\n      <td>I080</td>\n      <td>I482</td>\n      <td>E860</td>\n      <td>N2889</td>\n      <td>E559</td>\n      <td>Z66</td>\n      <td>D751</td>\n      <td>R2681</td>\n      <td>F0390</td>\n      <td>R4701</td>\n      <td>H409</td>\n      <td>G9340</td>\n      <td>E876</td>\n      <td>Z9181</td>\n      <td>Y92129</td>\n      <td>W19XXXA</td>\n      <td>R482</td>\n      <td>Z952</td>\n      <td>Z7982</td>\n      <td>NaN</td>\n      <td>NaN</td>\n      <td>NaN</td>\n      <td>NaN</td>\n      <td>NaN</td>\n      <td>NaN</td>\n      <td>NaN</td>\n      <td>NaN</td>\n      <td>NaN</td>\n      <td>NaN</td>\n      <td>NaN</td>\n      <td>NaN</td>\n      <td>NaN</td>\n      <td>NaN</td>\n      <td>NaN</td>\n      <td>NaN</td>\n      <td>NaN</td>\n      <td>NaN</td>\n      <td>NaN</td>\n      <td>0.0</td>\n      <td>0.0</td>\n      <td>2.0</td>\n      <td>43398.0</td>\n      <td>7.0</td>\n      <td>8.0</td>\n      <td>8.0</td>\n      <td>21.0</td>\n      <td>1.0</td>\n      <td>24992.0</td>\n      <td>496.0</td>\n      <td>e004rkq</td>\n      <td>1.0</td>\n      <td>1.0</td>\n      <td>0QS604Z</td>\n      <td>NaN</td>\n      <td>NaN</td>\n      <td>NaN</td>\n      <td>NaN</td>\n      <td>NaN</td>\n      <td>NaN</td>\n      <td>NaN</td>\n      <td>NaN</td>\n      <td>NaN</td>\n      <td>NaN</td>\n      <td>NaN</td>\n      <td>NaN</td>\n      <td>NaN</td>\n      <td>NaN</td>\n      <td>NaN</td>\n      <td>NaN</td>\n      <td>NaN</td>\n      <td>NaN</td>\n      <td>NaN</td>\n      <td>NaN</td>\n      <td>NaN</td>\n      <td>NaN</td>\n      <td>NaN</td>\n      <td>NaN</td>\n      <td>1.0</td>\n      <td>NaN</td>\n      <td>NaN</td>\n      <td>NaN</td>\n      <td>NaN</td>\n      <td>NaN</td>\n      <td>NaN</td>\n      <td>NaN</td>\n      <td>NaN</td>\n      <td>NaN</td>\n      <td>NaN</td>\n      <td>NaN</td>\n      <td>NaN</td>\n      <td>NaN</td>\n      <td>NaN</td>\n      <td>NaN</td>\n      <td>NaN</td>\n      <td>NaN</td>\n      <td>NaN</td>\n      <td>NaN</td>\n      <td>NaN</td>\n      <td>NaN</td>\n      <td>NaN</td>\n      <td>NaN</td>\n      <td>NaN</td>\n      <td>0.0</td>\n      <td>1.0</td>\n      <td>0.0</td>\n      <td>135462.0</td>\n      <td>2017.0</td>\n      <td>4.0</td>\n      <td>10.0</td>\n      <td>10.0</td>\n      <td>0.0</td>\n      <td>0.0</td>\n      <td>0.0</td>\n      <td>17.703125</td>\n      <td>2.0</td>\n      <td>1.0</td>\n      <td>0.0</td>\n      <td>2</td>\n      <td>0</td>\n    </tr>\n  </tbody>\n</table>\n</div>"
     },
     "metadata": {},
     "execution_count": 13
    }
   ],
   "source": [
    "# Check the file structure.\n",
    "ibd_index_file.head(10)"
   ]
  },
  {
   "cell_type": "code",
   "execution_count": 14,
   "metadata": {},
   "outputs": [],
   "source": [
    "# If there is an IBD related procedure (flexible sigmoidoscopy or colonoscopy, ICD10 codes: 0DJD8ZZ, 0D9.E8ZX, 0D9.H8ZX, 0D9.N8ZX, 0DB.E8ZX, 0DB.H8ZX, 0DB.N8ZX, 0DB.E8ZZ) in columns\n",
    "# i10_pr1 - i10_pr25 then fill in a 1 in the new 'ibd_related_procedure' column, otherwise fill in a 0.\n",
    "ibd_index_file['ibd_related_procedures'] = ibd_index_file.filter(like='i10_pr').isin(['0DJD8ZZ', '0D9E8ZX', '0D9H8ZX', '0D9N8ZX', '0DBE8ZX', '0DBH8ZX', '0DBN8ZX', '0DBE8ZZ']).any(axis=1).astype(int)"
   ]
  },
  {
   "cell_type": "code",
   "execution_count": 15,
   "metadata": {},
   "outputs": [
    {
     "output_type": "stream",
     "name": "stdout",
     "text": [
      "Values:  Counts:\n0        58914\n1        7159\n"
     ]
    }
   ],
   "source": [
    "# Check to see how many rows have an IBD related procedure.\n",
    "values, counts = np.unique(ibd_index_file['ibd_related_procedures'], return_counts=True)\n",
    "print('Values:  Counts:')\n",
    "for number in values:\n",
    "    print(f'{values[number]}        {counts[number]}')"
   ]
  },
  {
   "cell_type": "code",
   "execution_count": 16,
   "metadata": {},
   "outputs": [],
   "source": [
    "# Use pivot_table with aggregate function 'sum' to essentially group by the nrd_visitlinks and sum the ibd_related_procedures for each patient.\n",
    "pivot_df = ibd_index_file.pivot_table(index='nrd_visitlink', values='ibd_related_procedures', aggfunc='sum').reset_index()"
   ]
  },
  {
   "cell_type": "code",
   "execution_count": 17,
   "metadata": {},
   "outputs": [
    {
     "output_type": "stream",
     "name": "stdout",
     "text": [
      "Values:  Counts:\n0        25415\n1        5944\n2        477\n3        68\n4        13\n5        1\n"
     ]
    }
   ],
   "source": [
    "# Print out the number of times each value shows up.\n",
    "values, counts = np.unique(pivot_df['ibd_related_procedures'], return_counts=True)\n",
    "print('Values:  Counts:')\n",
    "for number in values:\n",
    "    print(f'{values[number]}        {counts[number]}')"
   ]
  },
  {
   "cell_type": "code",
   "execution_count": 18,
   "metadata": {},
   "outputs": [],
   "source": [
    "# Since the pivot table only has unique patients and totals per patient, create a dictionary to store each patient and their total ibd_related_procedures.\n",
    "patient_totals = {}\n",
    "for row in pivot_df.itertuples(index=False):\n",
    "    patient_totals.update({row.nrd_visitlink: row.ibd_related_procedures})"
   ]
  },
  {
   "cell_type": "code",
   "execution_count": 19,
   "metadata": {},
   "outputs": [
    {
     "output_type": "execute_result",
     "data": {
      "text/plain": [
       "31918"
      ]
     },
     "metadata": {},
     "execution_count": 19
    }
   ],
   "source": [
    "# Double check to make sure we still have the same number of unique patients as before.\n",
    "len(patient_totals)"
   ]
  },
  {
   "cell_type": "code",
   "execution_count": 20,
   "metadata": {
    "tags": []
   },
   "outputs": [],
   "source": [
    "# Create a new column called 'total_ibd_related_procedures' by mapping the nrd_visitlinks values from the dicionary patient_totals.\n",
    "ibd_index_file['total_ibd_related_procedures'] = ibd_index_file['nrd_visitlink'].map(patient_totals)"
   ]
  },
  {
   "cell_type": "code",
   "execution_count": 21,
   "metadata": {},
   "outputs": [
    {
     "output_type": "execute_result",
     "data": {
      "text/plain": [
       "        age  aweekend  died    discwt  dispuniform  dmonth  dqtr    drg  \\\n",
       "0      49.0       1.0   0.0  1.492757          1.0     6.0   2.0  386.0   \n",
       "1      63.0       0.0   0.0  1.984195          1.0     3.0   1.0  386.0   \n",
       "2      54.0       0.0   0.0  1.389702          1.0     2.0   1.0  389.0   \n",
       "3      55.0       0.0   0.0  1.442027          1.0    11.0   4.0  330.0   \n",
       "4      29.0       0.0   0.0  2.085694          1.0     1.0   1.0  386.0   \n",
       "...     ...       ...   ...       ...          ...     ...   ...    ...   \n",
       "66068  63.0       0.0   0.0  1.380296          1.0     8.0   3.0  194.0   \n",
       "66069  63.0       0.0   0.0  1.380296          1.0    11.0   4.0  919.0   \n",
       "66070  63.0       0.0   0.0  1.380296          1.0    12.0   4.0  202.0   \n",
       "66071  54.0       1.0   0.0  1.858673          1.0     2.0   1.0  387.0   \n",
       "66072  54.0       0.0   0.0  1.858673          1.0     2.0   1.0  386.0   \n",
       "\n",
       "       drgver  drg_nopoa i10_dx1 i10_dx2 i10_dx3 i10_dx4 i10_dx5 i10_dx6  \\\n",
       "0        34.0      386.0  K50812  G40909    J449  F17210    F329     NaN   \n",
       "1        34.0      386.0  K50912    E039   M1990    K219     I10    R630   \n",
       "2        34.0      389.0   K5669   K5010    E663    Z885   Z6826     I10   \n",
       "3        35.0      330.0   K5720    K660   F3342   K5010     NaN     NaN   \n",
       "4        34.0      386.0  K50012  Z87891   Z9049    F329     NaN     NaN   \n",
       "...       ...        ...     ...     ...     ...     ...     ...     ...   \n",
       "66068    34.0      194.0    J189    T865     R51     Y95    L298  D89810   \n",
       "66069    35.0      919.0    T865    N170    J069    E872    D469   E8339   \n",
       "66070    35.0      202.0    J205    N170    E785   T8609    E871   K5090   \n",
       "66071    34.0      387.0  K51911     I10    K649     K30    K219    D509   \n",
       "66072    34.0      386.0  K51911    F330  Z87891   K5900    K649     I10   \n",
       "\n",
       "      i10_dx7 i10_dx8 i10_dx9 i10_dx10 i10_dx11 i10_dx12 i10_dx13 i10_dx14  \\\n",
       "0         NaN     NaN     NaN      NaN      NaN      NaN      NaN      NaN   \n",
       "1      F17210  G43909    Z885     E785   Z79891    Z7982     M549     J449   \n",
       "2       K5900    F909   F3342     Z883    K5732      NaN      NaN      NaN   \n",
       "3         NaN     NaN     NaN      NaN      NaN      NaN      NaN      NaN   \n",
       "4         NaN     NaN     NaN      NaN      NaN      NaN      NaN      NaN   \n",
       "...       ...     ...     ...      ...      ...      ...      ...      ...   \n",
       "66068    E222    D469    I959     Z006      NaN      NaN      NaN      NaN   \n",
       "66069  D89810    R197  D61818    R7989    K5090     D709     K219     Z006   \n",
       "66070  D61818    E039    E440    G4700   D89810     B259     D801     Z006   \n",
       "66071     NaN     NaN     NaN      NaN      NaN      NaN      NaN      NaN   \n",
       "66072    K219    D649  R45851      NaN      NaN      NaN      NaN      NaN   \n",
       "\n",
       "      i10_dx15 i10_dx16 i10_dx17 i10_dx18 i10_dx19 i10_dx20 i10_dx21 i10_dx22  \\\n",
       "0          NaN      NaN      NaN      NaN      NaN      NaN      NaN      NaN   \n",
       "1        G8929      NaN      NaN      NaN      NaN      NaN      NaN      NaN   \n",
       "2          NaN      NaN      NaN      NaN      NaN      NaN      NaN      NaN   \n",
       "3          NaN      NaN      NaN      NaN      NaN      NaN      NaN      NaN   \n",
       "4          NaN      NaN      NaN      NaN      NaN      NaN      NaN      NaN   \n",
       "...        ...      ...      ...      ...      ...      ...      ...      ...   \n",
       "66068      NaN      NaN      NaN      NaN      NaN      NaN      NaN      NaN   \n",
       "66069     E039     Z888     Y830  T367X5A   Y92230    G4700    Z9089     Z881   \n",
       "66070      I10    Z6821     Y848   Y92039  T380X5A   H04123     D469     R739   \n",
       "66071      NaN      NaN      NaN      NaN      NaN      NaN      NaN      NaN   \n",
       "66072      NaN      NaN      NaN      NaN      NaN      NaN      NaN      NaN   \n",
       "\n",
       "      i10_dx23 i10_dx24 i10_dx25 i10_dx26 i10_dx27 i10_dx28 i10_dx29 i10_dx30  \\\n",
       "0          NaN      NaN      NaN      NaN      NaN      NaN      NaN      NaN   \n",
       "1          NaN      NaN      NaN      NaN      NaN      NaN      NaN      NaN   \n",
       "2          NaN      NaN      NaN      NaN      NaN      NaN      NaN      NaN   \n",
       "3          NaN      NaN      NaN      NaN      NaN      NaN      NaN      NaN   \n",
       "4          NaN      NaN      NaN      NaN      NaN      NaN      NaN      NaN   \n",
       "...        ...      ...      ...      ...      ...      ...      ...      ...   \n",
       "66068      NaN      NaN      NaN      NaN      NaN      NaN      NaN      NaN   \n",
       "66069    Z9049   Y92039     E806     B348     E785      NaN      NaN      NaN   \n",
       "66070      NaN      NaN      NaN      NaN      NaN      NaN      NaN      NaN   \n",
       "66071      NaN      NaN      NaN      NaN      NaN      NaN      NaN      NaN   \n",
       "66072      NaN      NaN      NaN      NaN      NaN      NaN      NaN      NaN   \n",
       "\n",
       "      i10_dx31 i10_dx32 i10_dx33 i10_dx34 i10_dx35 i10_dx36 i10_dx37 i10_dx38  \\\n",
       "0          NaN      NaN      NaN      NaN      NaN      NaN      NaN      NaN   \n",
       "1          NaN      NaN      NaN      NaN      NaN      NaN      NaN      NaN   \n",
       "2          NaN      NaN      NaN      NaN      NaN      NaN      NaN      NaN   \n",
       "3          NaN      NaN      NaN      NaN      NaN      NaN      NaN      NaN   \n",
       "4          NaN      NaN      NaN      NaN      NaN      NaN      NaN      NaN   \n",
       "...        ...      ...      ...      ...      ...      ...      ...      ...   \n",
       "66068      NaN      NaN      NaN      NaN      NaN      NaN      NaN      NaN   \n",
       "66069      NaN      NaN      NaN      NaN      NaN      NaN      NaN      NaN   \n",
       "66070      NaN      NaN      NaN      NaN      NaN      NaN      NaN      NaN   \n",
       "66071      NaN      NaN      NaN      NaN      NaN      NaN      NaN      NaN   \n",
       "66072      NaN      NaN      NaN      NaN      NaN      NaN      NaN      NaN   \n",
       "\n",
       "      i10_dx39 i10_dx40  elective  female  hcup_ed  hosp_nrd   los   mdc  \\\n",
       "0          NaN      NaN       0.0     0.0      1.0   41827.0   3.0   6.0   \n",
       "1          NaN      NaN       0.0     1.0      2.0   42416.0   2.0   6.0   \n",
       "2          NaN      NaN       0.0     0.0      2.0   43509.0   3.0   6.0   \n",
       "3          NaN      NaN       1.0     0.0      0.0   42947.0   6.0   6.0   \n",
       "4          NaN      NaN       0.0     0.0      0.0   43848.0   2.0   6.0   \n",
       "...        ...      ...       ...     ...      ...       ...   ...   ...   \n",
       "66068      NaN      NaN       0.0     1.0      0.0   41084.0   6.0   4.0   \n",
       "66069      NaN      NaN       0.0     1.0      0.0   41084.0  21.0  21.0   \n",
       "66070      NaN      NaN       0.0     1.0      0.0   41084.0   2.0   4.0   \n",
       "66071      NaN      NaN       0.0     1.0      2.0   42659.0   3.0   6.0   \n",
       "66072      NaN      NaN       0.0     1.0      2.0   44321.0   3.0   6.0   \n",
       "\n",
       "       mdc_nopoa  i10_ndx  i10_npr  nrd_daystoevent  nrd_stratum  \\\n",
       "0            6.0      5.0      0.0          19296.0        452.0   \n",
       "1            6.0     15.0      0.0          13000.0        461.0   \n",
       "2            6.0     11.0      0.0          18352.0        441.0   \n",
       "3            6.0      4.0      2.0          18640.0        496.0   \n",
       "4            6.0      4.0      0.0          15488.0        406.0   \n",
       "...          ...      ...      ...              ...          ...   \n",
       "66068        4.0     10.0      1.0          15056.0        441.0   \n",
       "66069       21.0     27.0      5.0          15120.0        441.0   \n",
       "66070        4.0     22.0      0.0          15184.0        441.0   \n",
       "66071        6.0      6.0      3.0          22912.0        435.0   \n",
       "66072        6.0      9.0      0.0          22928.0        435.0   \n",
       "\n",
       "      nrd_visitlink  pay1  pl_nchs  i10_pr1  i10_pr2  i10_pr3  i10_pr4  \\\n",
       "0           e0009vi   2.0      6.0      NaN      NaN      NaN      NaN   \n",
       "1           e0021xf   1.0      5.0      NaN      NaN      NaN      NaN   \n",
       "2           e002hi0   3.0      1.0      NaN      NaN      NaN      NaN   \n",
       "3           e002hi0   3.0      1.0  0T788DZ  0DBN4ZZ      NaN      NaN   \n",
       "4           e002vve   3.0      4.0      NaN      NaN      NaN      NaN   \n",
       "...             ...   ...      ...      ...      ...      ...      ...   \n",
       "66068       ezzyha7   1.0      3.0  0HBJXZX      NaN      NaN      NaN   \n",
       "66069       ezzyha7   1.0      3.0  0DB58ZX  0DB98ZX  0DBN8ZX  0DB68ZX   \n",
       "66070       ezzyha7   1.0      3.0      NaN      NaN      NaN      NaN   \n",
       "66071       ezzz5ob   1.0      2.0  0DBP8ZX  30233N1  0DBN8ZX      NaN   \n",
       "66072       ezzz5ob   1.0      2.0      NaN      NaN      NaN      NaN   \n",
       "\n",
       "       i10_pr5 i10_pr6 i10_pr7 i10_pr8 i10_pr9 i10_pr10 i10_pr11 i10_pr12  \\\n",
       "0          NaN     NaN     NaN     NaN     NaN      NaN      NaN      NaN   \n",
       "1          NaN     NaN     NaN     NaN     NaN      NaN      NaN      NaN   \n",
       "2          NaN     NaN     NaN     NaN     NaN      NaN      NaN      NaN   \n",
       "3          NaN     NaN     NaN     NaN     NaN      NaN      NaN      NaN   \n",
       "4          NaN     NaN     NaN     NaN     NaN      NaN      NaN      NaN   \n",
       "...        ...     ...     ...     ...     ...      ...      ...      ...   \n",
       "66068      NaN     NaN     NaN     NaN     NaN      NaN      NaN      NaN   \n",
       "66069  XW03341     NaN     NaN     NaN     NaN      NaN      NaN      NaN   \n",
       "66070      NaN     NaN     NaN     NaN     NaN      NaN      NaN      NaN   \n",
       "66071      NaN     NaN     NaN     NaN     NaN      NaN      NaN      NaN   \n",
       "66072      NaN     NaN     NaN     NaN     NaN      NaN      NaN      NaN   \n",
       "\n",
       "      i10_pr13 i10_pr14 i10_pr15 i10_pr16 i10_pr17 i10_pr18 i10_pr19 i10_pr20  \\\n",
       "0          NaN      NaN      NaN      NaN      NaN      NaN      NaN      NaN   \n",
       "1          NaN      NaN      NaN      NaN      NaN      NaN      NaN      NaN   \n",
       "2          NaN      NaN      NaN      NaN      NaN      NaN      NaN      NaN   \n",
       "3          NaN      NaN      NaN      NaN      NaN      NaN      NaN      NaN   \n",
       "4          NaN      NaN      NaN      NaN      NaN      NaN      NaN      NaN   \n",
       "...        ...      ...      ...      ...      ...      ...      ...      ...   \n",
       "66068      NaN      NaN      NaN      NaN      NaN      NaN      NaN      NaN   \n",
       "66069      NaN      NaN      NaN      NaN      NaN      NaN      NaN      NaN   \n",
       "66070      NaN      NaN      NaN      NaN      NaN      NaN      NaN      NaN   \n",
       "66071      NaN      NaN      NaN      NaN      NaN      NaN      NaN      NaN   \n",
       "66072      NaN      NaN      NaN      NaN      NaN      NaN      NaN      NaN   \n",
       "\n",
       "      i10_pr21 i10_pr22 i10_pr23 i10_pr24 i10_pr25  prday1  prday2  prday3  \\\n",
       "0          NaN      NaN      NaN      NaN      NaN     NaN     NaN     NaN   \n",
       "1          NaN      NaN      NaN      NaN      NaN     NaN     NaN     NaN   \n",
       "2          NaN      NaN      NaN      NaN      NaN     NaN     NaN     NaN   \n",
       "3          NaN      NaN      NaN      NaN      NaN     0.0     0.0     NaN   \n",
       "4          NaN      NaN      NaN      NaN      NaN     NaN     NaN     NaN   \n",
       "...        ...      ...      ...      ...      ...     ...     ...     ...   \n",
       "66068      NaN      NaN      NaN      NaN      NaN     1.0     NaN     NaN   \n",
       "66069      NaN      NaN      NaN      NaN      NaN     1.0     1.0     1.0   \n",
       "66070      NaN      NaN      NaN      NaN      NaN     NaN     NaN     NaN   \n",
       "66071      NaN      NaN      NaN      NaN      NaN     1.0     0.0     1.0   \n",
       "66072      NaN      NaN      NaN      NaN      NaN     NaN     NaN     NaN   \n",
       "\n",
       "       prday4  prday5  prday6  prday7  prday8  prday9  prday10  prday11  \\\n",
       "0         NaN     NaN     NaN     NaN     NaN     NaN      NaN      NaN   \n",
       "1         NaN     NaN     NaN     NaN     NaN     NaN      NaN      NaN   \n",
       "2         NaN     NaN     NaN     NaN     NaN     NaN      NaN      NaN   \n",
       "3         NaN     NaN     NaN     NaN     NaN     NaN      NaN      NaN   \n",
       "4         NaN     NaN     NaN     NaN     NaN     NaN      NaN      NaN   \n",
       "...       ...     ...     ...     ...     ...     ...      ...      ...   \n",
       "66068     NaN     NaN     NaN     NaN     NaN     NaN      NaN      NaN   \n",
       "66069     1.0    10.0     NaN     NaN     NaN     NaN      NaN      NaN   \n",
       "66070     NaN     NaN     NaN     NaN     NaN     NaN      NaN      NaN   \n",
       "66071     NaN     NaN     NaN     NaN     NaN     NaN      NaN      NaN   \n",
       "66072     NaN     NaN     NaN     NaN     NaN     NaN      NaN      NaN   \n",
       "\n",
       "       prday12  prday13  prday14  prday15  prday16  prday17  prday18  prday19  \\\n",
       "0          NaN      NaN      NaN      NaN      NaN      NaN      NaN      NaN   \n",
       "1          NaN      NaN      NaN      NaN      NaN      NaN      NaN      NaN   \n",
       "2          NaN      NaN      NaN      NaN      NaN      NaN      NaN      NaN   \n",
       "3          NaN      NaN      NaN      NaN      NaN      NaN      NaN      NaN   \n",
       "4          NaN      NaN      NaN      NaN      NaN      NaN      NaN      NaN   \n",
       "...        ...      ...      ...      ...      ...      ...      ...      ...   \n",
       "66068      NaN      NaN      NaN      NaN      NaN      NaN      NaN      NaN   \n",
       "66069      NaN      NaN      NaN      NaN      NaN      NaN      NaN      NaN   \n",
       "66070      NaN      NaN      NaN      NaN      NaN      NaN      NaN      NaN   \n",
       "66071      NaN      NaN      NaN      NaN      NaN      NaN      NaN      NaN   \n",
       "66072      NaN      NaN      NaN      NaN      NaN      NaN      NaN      NaN   \n",
       "\n",
       "       prday20  prday21  prday22  prday23  prday24  prday25  rehabtransfer  \\\n",
       "0          NaN      NaN      NaN      NaN      NaN      NaN            0.0   \n",
       "1          NaN      NaN      NaN      NaN      NaN      NaN            0.0   \n",
       "2          NaN      NaN      NaN      NaN      NaN      NaN            0.0   \n",
       "3          NaN      NaN      NaN      NaN      NaN      NaN            0.0   \n",
       "4          NaN      NaN      NaN      NaN      NaN      NaN            0.0   \n",
       "...        ...      ...      ...      ...      ...      ...            ...   \n",
       "66068      NaN      NaN      NaN      NaN      NaN      NaN            0.0   \n",
       "66069      NaN      NaN      NaN      NaN      NaN      NaN            0.0   \n",
       "66070      NaN      NaN      NaN      NaN      NaN      NaN            0.0   \n",
       "66071      NaN      NaN      NaN      NaN      NaN      NaN            0.0   \n",
       "66072      NaN      NaN      NaN      NaN      NaN      NaN            0.0   \n",
       "\n",
       "       resident  samedayevent    totchg    year  zipinc_qrtl  dxver  prver  \\\n",
       "0           1.0           0.0   11700.0  2017.0          2.0   10.0   10.0   \n",
       "1           1.0           0.0   38599.0  2017.0          3.0   10.0   10.0   \n",
       "2           1.0           0.0   28192.0  2017.0          4.0   10.0   10.0   \n",
       "3           1.0           0.0  103023.0  2017.0          4.0   10.0   10.0   \n",
       "4           0.0           0.0    3735.0  2017.0          1.0   10.0   10.0   \n",
       "...         ...           ...       ...     ...          ...    ...    ...   \n",
       "66068       1.0           0.0  121265.0  2017.0          3.0   10.0   10.0   \n",
       "66069       1.0           0.0  594335.0  2017.0          3.0   10.0   10.0   \n",
       "66070       1.0           0.0   90757.0  2017.0          3.0   10.0   10.0   \n",
       "66071       1.0           0.0   35391.0  2017.0          1.0   10.0   10.0   \n",
       "66072       1.0           0.0   27415.0  2017.0          1.0   10.0   10.0   \n",
       "\n",
       "       preventable_readmission  prev_readm_reason  medical_admission  \\\n",
       "0                          NaN                NaN                1.0   \n",
       "1                          NaN                NaN                1.0   \n",
       "2                          NaN                NaN                1.0   \n",
       "3                          0.0                0.0                0.0   \n",
       "4                          NaN                NaN                1.0   \n",
       "...                        ...                ...                ...   \n",
       "66068                      0.0                0.0                1.0   \n",
       "66069                      0.0                0.0                1.0   \n",
       "66070                      0.0                0.0                1.0   \n",
       "66071                      0.0                0.0                1.0   \n",
       "66072                      NaN                NaN                1.0   \n",
       "\n",
       "       hfrs_score  hfrs_severity  cc_score  cc_severity  ibd_diagnosis  \\\n",
       "0        2.000000            0.0       1.0          0.0              1   \n",
       "1        2.400391            0.0       1.0          0.0              1   \n",
       "2        1.799805            0.0       0.0          0.0              1   \n",
       "3        0.000000            0.0       0.0          0.0              0   \n",
       "4        2.000000            0.0       0.0          0.0              1   \n",
       "...           ...            ...       ...          ...            ...   \n",
       "66068    3.900391            0.0       2.0          0.0              0   \n",
       "66069    5.101562            1.0       2.0          0.0              0   \n",
       "66070    4.800781            0.0       2.0          0.0              0   \n",
       "66071    0.000000            0.0       0.0          0.0              1   \n",
       "66072    4.898438            0.0       0.0          0.0              2   \n",
       "\n",
       "       ibd_index_hospitalization  ibd_related_procedures  \\\n",
       "0                              1                       0   \n",
       "1                              1                       0   \n",
       "2                              1                       0   \n",
       "3                              0                       0   \n",
       "4                              1                       0   \n",
       "...                          ...                     ...   \n",
       "66068                          0                       0   \n",
       "66069                          0                       1   \n",
       "66070                          0                       0   \n",
       "66071                          1                       1   \n",
       "66072                          0                       0   \n",
       "\n",
       "       total_ibd_related_procedures  \n",
       "0                                 0  \n",
       "1                                 0  \n",
       "2                                 0  \n",
       "3                                 0  \n",
       "4                                 0  \n",
       "...                             ...  \n",
       "66068                             1  \n",
       "66069                             1  \n",
       "66070                             1  \n",
       "66071                             1  \n",
       "66072                             1  \n",
       "\n",
       "[66073 rows x 133 columns]"
      ],
      "text/html": "<div>\n<style scoped>\n    .dataframe tbody tr th:only-of-type {\n        vertical-align: middle;\n    }\n\n    .dataframe tbody tr th {\n        vertical-align: top;\n    }\n\n    .dataframe thead th {\n        text-align: right;\n    }\n</style>\n<table border=\"1\" class=\"dataframe\">\n  <thead>\n    <tr style=\"text-align: right;\">\n      <th></th>\n      <th>age</th>\n      <th>aweekend</th>\n      <th>died</th>\n      <th>discwt</th>\n      <th>dispuniform</th>\n      <th>dmonth</th>\n      <th>dqtr</th>\n      <th>drg</th>\n      <th>drgver</th>\n      <th>drg_nopoa</th>\n      <th>i10_dx1</th>\n      <th>i10_dx2</th>\n      <th>i10_dx3</th>\n      <th>i10_dx4</th>\n      <th>i10_dx5</th>\n      <th>i10_dx6</th>\n      <th>i10_dx7</th>\n      <th>i10_dx8</th>\n      <th>i10_dx9</th>\n      <th>i10_dx10</th>\n      <th>i10_dx11</th>\n      <th>i10_dx12</th>\n      <th>i10_dx13</th>\n      <th>i10_dx14</th>\n      <th>i10_dx15</th>\n      <th>i10_dx16</th>\n      <th>i10_dx17</th>\n      <th>i10_dx18</th>\n      <th>i10_dx19</th>\n      <th>i10_dx20</th>\n      <th>i10_dx21</th>\n      <th>i10_dx22</th>\n      <th>i10_dx23</th>\n      <th>i10_dx24</th>\n      <th>i10_dx25</th>\n      <th>i10_dx26</th>\n      <th>i10_dx27</th>\n      <th>i10_dx28</th>\n      <th>i10_dx29</th>\n      <th>i10_dx30</th>\n      <th>i10_dx31</th>\n      <th>i10_dx32</th>\n      <th>i10_dx33</th>\n      <th>i10_dx34</th>\n      <th>i10_dx35</th>\n      <th>i10_dx36</th>\n      <th>i10_dx37</th>\n      <th>i10_dx38</th>\n      <th>i10_dx39</th>\n      <th>i10_dx40</th>\n      <th>elective</th>\n      <th>female</th>\n      <th>hcup_ed</th>\n      <th>hosp_nrd</th>\n      <th>los</th>\n      <th>mdc</th>\n      <th>mdc_nopoa</th>\n      <th>i10_ndx</th>\n      <th>i10_npr</th>\n      <th>nrd_daystoevent</th>\n      <th>nrd_stratum</th>\n      <th>nrd_visitlink</th>\n      <th>pay1</th>\n      <th>pl_nchs</th>\n      <th>i10_pr1</th>\n      <th>i10_pr2</th>\n      <th>i10_pr3</th>\n      <th>i10_pr4</th>\n      <th>i10_pr5</th>\n      <th>i10_pr6</th>\n      <th>i10_pr7</th>\n      <th>i10_pr8</th>\n      <th>i10_pr9</th>\n      <th>i10_pr10</th>\n      <th>i10_pr11</th>\n      <th>i10_pr12</th>\n      <th>i10_pr13</th>\n      <th>i10_pr14</th>\n      <th>i10_pr15</th>\n      <th>i10_pr16</th>\n      <th>i10_pr17</th>\n      <th>i10_pr18</th>\n      <th>i10_pr19</th>\n      <th>i10_pr20</th>\n      <th>i10_pr21</th>\n      <th>i10_pr22</th>\n      <th>i10_pr23</th>\n      <th>i10_pr24</th>\n      <th>i10_pr25</th>\n      <th>prday1</th>\n      <th>prday2</th>\n      <th>prday3</th>\n      <th>prday4</th>\n      <th>prday5</th>\n      <th>prday6</th>\n      <th>prday7</th>\n      <th>prday8</th>\n      <th>prday9</th>\n      <th>prday10</th>\n      <th>prday11</th>\n      <th>prday12</th>\n      <th>prday13</th>\n      <th>prday14</th>\n      <th>prday15</th>\n      <th>prday16</th>\n      <th>prday17</th>\n      <th>prday18</th>\n      <th>prday19</th>\n      <th>prday20</th>\n      <th>prday21</th>\n      <th>prday22</th>\n      <th>prday23</th>\n      <th>prday24</th>\n      <th>prday25</th>\n      <th>rehabtransfer</th>\n      <th>resident</th>\n      <th>samedayevent</th>\n      <th>totchg</th>\n      <th>year</th>\n      <th>zipinc_qrtl</th>\n      <th>dxver</th>\n      <th>prver</th>\n      <th>preventable_readmission</th>\n      <th>prev_readm_reason</th>\n      <th>medical_admission</th>\n      <th>hfrs_score</th>\n      <th>hfrs_severity</th>\n      <th>cc_score</th>\n      <th>cc_severity</th>\n      <th>ibd_diagnosis</th>\n      <th>ibd_index_hospitalization</th>\n      <th>ibd_related_procedures</th>\n      <th>total_ibd_related_procedures</th>\n    </tr>\n  </thead>\n  <tbody>\n    <tr>\n      <th>0</th>\n      <td>49.0</td>\n      <td>1.0</td>\n      <td>0.0</td>\n      <td>1.492757</td>\n      <td>1.0</td>\n      <td>6.0</td>\n      <td>2.0</td>\n      <td>386.0</td>\n      <td>34.0</td>\n      <td>386.0</td>\n      <td>K50812</td>\n      <td>G40909</td>\n      <td>J449</td>\n      <td>F17210</td>\n      <td>F329</td>\n      <td>NaN</td>\n      <td>NaN</td>\n      <td>NaN</td>\n      <td>NaN</td>\n      <td>NaN</td>\n      <td>NaN</td>\n      <td>NaN</td>\n      <td>NaN</td>\n      <td>NaN</td>\n      <td>NaN</td>\n      <td>NaN</td>\n      <td>NaN</td>\n      <td>NaN</td>\n      <td>NaN</td>\n      <td>NaN</td>\n      <td>NaN</td>\n      <td>NaN</td>\n      <td>NaN</td>\n      <td>NaN</td>\n      <td>NaN</td>\n      <td>NaN</td>\n      <td>NaN</td>\n      <td>NaN</td>\n      <td>NaN</td>\n      <td>NaN</td>\n      <td>NaN</td>\n      <td>NaN</td>\n      <td>NaN</td>\n      <td>NaN</td>\n      <td>NaN</td>\n      <td>NaN</td>\n      <td>NaN</td>\n      <td>NaN</td>\n      <td>NaN</td>\n      <td>NaN</td>\n      <td>0.0</td>\n      <td>0.0</td>\n      <td>1.0</td>\n      <td>41827.0</td>\n      <td>3.0</td>\n      <td>6.0</td>\n      <td>6.0</td>\n      <td>5.0</td>\n      <td>0.0</td>\n      <td>19296.0</td>\n      <td>452.0</td>\n      <td>e0009vi</td>\n      <td>2.0</td>\n      <td>6.0</td>\n      <td>NaN</td>\n      <td>NaN</td>\n      <td>NaN</td>\n      <td>NaN</td>\n      <td>NaN</td>\n      <td>NaN</td>\n      <td>NaN</td>\n      <td>NaN</td>\n      <td>NaN</td>\n      <td>NaN</td>\n      <td>NaN</td>\n      <td>NaN</td>\n      <td>NaN</td>\n      <td>NaN</td>\n      <td>NaN</td>\n      <td>NaN</td>\n      <td>NaN</td>\n      <td>NaN</td>\n      <td>NaN</td>\n      <td>NaN</td>\n      <td>NaN</td>\n      <td>NaN</td>\n      <td>NaN</td>\n      <td>NaN</td>\n      <td>NaN</td>\n      <td>NaN</td>\n      <td>NaN</td>\n      <td>NaN</td>\n      <td>NaN</td>\n      <td>NaN</td>\n      <td>NaN</td>\n      <td>NaN</td>\n      <td>NaN</td>\n      <td>NaN</td>\n      <td>NaN</td>\n      <td>NaN</td>\n      <td>NaN</td>\n      <td>NaN</td>\n      <td>NaN</td>\n      <td>NaN</td>\n      <td>NaN</td>\n      <td>NaN</td>\n      <td>NaN</td>\n      <td>NaN</td>\n      <td>NaN</td>\n      <td>NaN</td>\n      <td>NaN</td>\n      <td>NaN</td>\n      <td>NaN</td>\n      <td>NaN</td>\n      <td>0.0</td>\n      <td>1.0</td>\n      <td>0.0</td>\n      <td>11700.0</td>\n      <td>2017.0</td>\n      <td>2.0</td>\n      <td>10.0</td>\n      <td>10.0</td>\n      <td>NaN</td>\n      <td>NaN</td>\n      <td>1.0</td>\n      <td>2.000000</td>\n      <td>0.0</td>\n      <td>1.0</td>\n      <td>0.0</td>\n      <td>1</td>\n      <td>1</td>\n      <td>0</td>\n      <td>0</td>\n    </tr>\n    <tr>\n      <th>1</th>\n      <td>63.0</td>\n      <td>0.0</td>\n      <td>0.0</td>\n      <td>1.984195</td>\n      <td>1.0</td>\n      <td>3.0</td>\n      <td>1.0</td>\n      <td>386.0</td>\n      <td>34.0</td>\n      <td>386.0</td>\n      <td>K50912</td>\n      <td>E039</td>\n      <td>M1990</td>\n      <td>K219</td>\n      <td>I10</td>\n      <td>R630</td>\n      <td>F17210</td>\n      <td>G43909</td>\n      <td>Z885</td>\n      <td>E785</td>\n      <td>Z79891</td>\n      <td>Z7982</td>\n      <td>M549</td>\n      <td>J449</td>\n      <td>G8929</td>\n      <td>NaN</td>\n      <td>NaN</td>\n      <td>NaN</td>\n      <td>NaN</td>\n      <td>NaN</td>\n      <td>NaN</td>\n      <td>NaN</td>\n      <td>NaN</td>\n      <td>NaN</td>\n      <td>NaN</td>\n      <td>NaN</td>\n      <td>NaN</td>\n      <td>NaN</td>\n      <td>NaN</td>\n      <td>NaN</td>\n      <td>NaN</td>\n      <td>NaN</td>\n      <td>NaN</td>\n      <td>NaN</td>\n      <td>NaN</td>\n      <td>NaN</td>\n      <td>NaN</td>\n      <td>NaN</td>\n      <td>NaN</td>\n      <td>NaN</td>\n      <td>0.0</td>\n      <td>1.0</td>\n      <td>2.0</td>\n      <td>42416.0</td>\n      <td>2.0</td>\n      <td>6.0</td>\n      <td>6.0</td>\n      <td>15.0</td>\n      <td>0.0</td>\n      <td>13000.0</td>\n      <td>461.0</td>\n      <td>e0021xf</td>\n      <td>1.0</td>\n      <td>5.0</td>\n      <td>NaN</td>\n      <td>NaN</td>\n      <td>NaN</td>\n      <td>NaN</td>\n      <td>NaN</td>\n      <td>NaN</td>\n      <td>NaN</td>\n      <td>NaN</td>\n      <td>NaN</td>\n      <td>NaN</td>\n      <td>NaN</td>\n      <td>NaN</td>\n      <td>NaN</td>\n      <td>NaN</td>\n      <td>NaN</td>\n      <td>NaN</td>\n      <td>NaN</td>\n      <td>NaN</td>\n      <td>NaN</td>\n      <td>NaN</td>\n      <td>NaN</td>\n      <td>NaN</td>\n      <td>NaN</td>\n      <td>NaN</td>\n      <td>NaN</td>\n      <td>NaN</td>\n      <td>NaN</td>\n      <td>NaN</td>\n      <td>NaN</td>\n      <td>NaN</td>\n      <td>NaN</td>\n      <td>NaN</td>\n      <td>NaN</td>\n      <td>NaN</td>\n      <td>NaN</td>\n      <td>NaN</td>\n      <td>NaN</td>\n      <td>NaN</td>\n      <td>NaN</td>\n      <td>NaN</td>\n      <td>NaN</td>\n      <td>NaN</td>\n      <td>NaN</td>\n      <td>NaN</td>\n      <td>NaN</td>\n      <td>NaN</td>\n      <td>NaN</td>\n      <td>NaN</td>\n      <td>NaN</td>\n      <td>NaN</td>\n      <td>0.0</td>\n      <td>1.0</td>\n      <td>0.0</td>\n      <td>38599.0</td>\n      <td>2017.0</td>\n      <td>3.0</td>\n      <td>10.0</td>\n      <td>10.0</td>\n      <td>NaN</td>\n      <td>NaN</td>\n      <td>1.0</td>\n      <td>2.400391</td>\n      <td>0.0</td>\n      <td>1.0</td>\n      <td>0.0</td>\n      <td>1</td>\n      <td>1</td>\n      <td>0</td>\n      <td>0</td>\n    </tr>\n    <tr>\n      <th>2</th>\n      <td>54.0</td>\n      <td>0.0</td>\n      <td>0.0</td>\n      <td>1.389702</td>\n      <td>1.0</td>\n      <td>2.0</td>\n      <td>1.0</td>\n      <td>389.0</td>\n      <td>34.0</td>\n      <td>389.0</td>\n      <td>K5669</td>\n      <td>K5010</td>\n      <td>E663</td>\n      <td>Z885</td>\n      <td>Z6826</td>\n      <td>I10</td>\n      <td>K5900</td>\n      <td>F909</td>\n      <td>F3342</td>\n      <td>Z883</td>\n      <td>K5732</td>\n      <td>NaN</td>\n      <td>NaN</td>\n      <td>NaN</td>\n      <td>NaN</td>\n      <td>NaN</td>\n      <td>NaN</td>\n      <td>NaN</td>\n      <td>NaN</td>\n      <td>NaN</td>\n      <td>NaN</td>\n      <td>NaN</td>\n      <td>NaN</td>\n      <td>NaN</td>\n      <td>NaN</td>\n      <td>NaN</td>\n      <td>NaN</td>\n      <td>NaN</td>\n      <td>NaN</td>\n      <td>NaN</td>\n      <td>NaN</td>\n      <td>NaN</td>\n      <td>NaN</td>\n      <td>NaN</td>\n      <td>NaN</td>\n      <td>NaN</td>\n      <td>NaN</td>\n      <td>NaN</td>\n      <td>NaN</td>\n      <td>NaN</td>\n      <td>0.0</td>\n      <td>0.0</td>\n      <td>2.0</td>\n      <td>43509.0</td>\n      <td>3.0</td>\n      <td>6.0</td>\n      <td>6.0</td>\n      <td>11.0</td>\n      <td>0.0</td>\n      <td>18352.0</td>\n      <td>441.0</td>\n      <td>e002hi0</td>\n      <td>3.0</td>\n      <td>1.0</td>\n      <td>NaN</td>\n      <td>NaN</td>\n      <td>NaN</td>\n      <td>NaN</td>\n      <td>NaN</td>\n      <td>NaN</td>\n      <td>NaN</td>\n      <td>NaN</td>\n      <td>NaN</td>\n      <td>NaN</td>\n      <td>NaN</td>\n      <td>NaN</td>\n      <td>NaN</td>\n      <td>NaN</td>\n      <td>NaN</td>\n      <td>NaN</td>\n      <td>NaN</td>\n      <td>NaN</td>\n      <td>NaN</td>\n      <td>NaN</td>\n      <td>NaN</td>\n      <td>NaN</td>\n      <td>NaN</td>\n      <td>NaN</td>\n      <td>NaN</td>\n      <td>NaN</td>\n      <td>NaN</td>\n      <td>NaN</td>\n      <td>NaN</td>\n      <td>NaN</td>\n      <td>NaN</td>\n      <td>NaN</td>\n      <td>NaN</td>\n      <td>NaN</td>\n      <td>NaN</td>\n      <td>NaN</td>\n      <td>NaN</td>\n      <td>NaN</td>\n      <td>NaN</td>\n      <td>NaN</td>\n      <td>NaN</td>\n      <td>NaN</td>\n      <td>NaN</td>\n      <td>NaN</td>\n      <td>NaN</td>\n      <td>NaN</td>\n      <td>NaN</td>\n      <td>NaN</td>\n      <td>NaN</td>\n      <td>NaN</td>\n      <td>0.0</td>\n      <td>1.0</td>\n      <td>0.0</td>\n      <td>28192.0</td>\n      <td>2017.0</td>\n      <td>4.0</td>\n      <td>10.0</td>\n      <td>10.0</td>\n      <td>NaN</td>\n      <td>NaN</td>\n      <td>1.0</td>\n      <td>1.799805</td>\n      <td>0.0</td>\n      <td>0.0</td>\n      <td>0.0</td>\n      <td>1</td>\n      <td>1</td>\n      <td>0</td>\n      <td>0</td>\n    </tr>\n    <tr>\n      <th>3</th>\n      <td>55.0</td>\n      <td>0.0</td>\n      <td>0.0</td>\n      <td>1.442027</td>\n      <td>1.0</td>\n      <td>11.0</td>\n      <td>4.0</td>\n      <td>330.0</td>\n      <td>35.0</td>\n      <td>330.0</td>\n      <td>K5720</td>\n      <td>K660</td>\n      <td>F3342</td>\n      <td>K5010</td>\n      <td>NaN</td>\n      <td>NaN</td>\n      <td>NaN</td>\n      <td>NaN</td>\n      <td>NaN</td>\n      <td>NaN</td>\n      <td>NaN</td>\n      <td>NaN</td>\n      <td>NaN</td>\n      <td>NaN</td>\n      <td>NaN</td>\n      <td>NaN</td>\n      <td>NaN</td>\n      <td>NaN</td>\n      <td>NaN</td>\n      <td>NaN</td>\n      <td>NaN</td>\n      <td>NaN</td>\n      <td>NaN</td>\n      <td>NaN</td>\n      <td>NaN</td>\n      <td>NaN</td>\n      <td>NaN</td>\n      <td>NaN</td>\n      <td>NaN</td>\n      <td>NaN</td>\n      <td>NaN</td>\n      <td>NaN</td>\n      <td>NaN</td>\n      <td>NaN</td>\n      <td>NaN</td>\n      <td>NaN</td>\n      <td>NaN</td>\n      <td>NaN</td>\n      <td>NaN</td>\n      <td>NaN</td>\n      <td>1.0</td>\n      <td>0.0</td>\n      <td>0.0</td>\n      <td>42947.0</td>\n      <td>6.0</td>\n      <td>6.0</td>\n      <td>6.0</td>\n      <td>4.0</td>\n      <td>2.0</td>\n      <td>18640.0</td>\n      <td>496.0</td>\n      <td>e002hi0</td>\n      <td>3.0</td>\n      <td>1.0</td>\n      <td>0T788DZ</td>\n      <td>0DBN4ZZ</td>\n      <td>NaN</td>\n      <td>NaN</td>\n      <td>NaN</td>\n      <td>NaN</td>\n      <td>NaN</td>\n      <td>NaN</td>\n      <td>NaN</td>\n      <td>NaN</td>\n      <td>NaN</td>\n      <td>NaN</td>\n      <td>NaN</td>\n      <td>NaN</td>\n      <td>NaN</td>\n      <td>NaN</td>\n      <td>NaN</td>\n      <td>NaN</td>\n      <td>NaN</td>\n      <td>NaN</td>\n      <td>NaN</td>\n      <td>NaN</td>\n      <td>NaN</td>\n      <td>NaN</td>\n      <td>NaN</td>\n      <td>0.0</td>\n      <td>0.0</td>\n      <td>NaN</td>\n      <td>NaN</td>\n      <td>NaN</td>\n      <td>NaN</td>\n      <td>NaN</td>\n      <td>NaN</td>\n      <td>NaN</td>\n      <td>NaN</td>\n      <td>NaN</td>\n      <td>NaN</td>\n      <td>NaN</td>\n      <td>NaN</td>\n      <td>NaN</td>\n      <td>NaN</td>\n      <td>NaN</td>\n      <td>NaN</td>\n      <td>NaN</td>\n      <td>NaN</td>\n      <td>NaN</td>\n      <td>NaN</td>\n      <td>NaN</td>\n      <td>NaN</td>\n      <td>NaN</td>\n      <td>0.0</td>\n      <td>1.0</td>\n      <td>0.0</td>\n      <td>103023.0</td>\n      <td>2017.0</td>\n      <td>4.0</td>\n      <td>10.0</td>\n      <td>10.0</td>\n      <td>0.0</td>\n      <td>0.0</td>\n      <td>0.0</td>\n      <td>0.000000</td>\n      <td>0.0</td>\n      <td>0.0</td>\n      <td>0.0</td>\n      <td>0</td>\n      <td>0</td>\n      <td>0</td>\n      <td>0</td>\n    </tr>\n    <tr>\n      <th>4</th>\n      <td>29.0</td>\n      <td>0.0</td>\n      <td>0.0</td>\n      <td>2.085694</td>\n      <td>1.0</td>\n      <td>1.0</td>\n      <td>1.0</td>\n      <td>386.0</td>\n      <td>34.0</td>\n      <td>386.0</td>\n      <td>K50012</td>\n      <td>Z87891</td>\n      <td>Z9049</td>\n      <td>F329</td>\n      <td>NaN</td>\n      <td>NaN</td>\n      <td>NaN</td>\n      <td>NaN</td>\n      <td>NaN</td>\n      <td>NaN</td>\n      <td>NaN</td>\n      <td>NaN</td>\n      <td>NaN</td>\n      <td>NaN</td>\n      <td>NaN</td>\n      <td>NaN</td>\n      <td>NaN</td>\n      <td>NaN</td>\n      <td>NaN</td>\n      <td>NaN</td>\n      <td>NaN</td>\n      <td>NaN</td>\n      <td>NaN</td>\n      <td>NaN</td>\n      <td>NaN</td>\n      <td>NaN</td>\n      <td>NaN</td>\n      <td>NaN</td>\n      <td>NaN</td>\n      <td>NaN</td>\n      <td>NaN</td>\n      <td>NaN</td>\n      <td>NaN</td>\n      <td>NaN</td>\n      <td>NaN</td>\n      <td>NaN</td>\n      <td>NaN</td>\n      <td>NaN</td>\n      <td>NaN</td>\n      <td>NaN</td>\n      <td>0.0</td>\n      <td>0.0</td>\n      <td>0.0</td>\n      <td>43848.0</td>\n      <td>2.0</td>\n      <td>6.0</td>\n      <td>6.0</td>\n      <td>4.0</td>\n      <td>0.0</td>\n      <td>15488.0</td>\n      <td>406.0</td>\n      <td>e002vve</td>\n      <td>3.0</td>\n      <td>4.0</td>\n      <td>NaN</td>\n      <td>NaN</td>\n      <td>NaN</td>\n      <td>NaN</td>\n      <td>NaN</td>\n      <td>NaN</td>\n      <td>NaN</td>\n      <td>NaN</td>\n      <td>NaN</td>\n      <td>NaN</td>\n      <td>NaN</td>\n      <td>NaN</td>\n      <td>NaN</td>\n      <td>NaN</td>\n      <td>NaN</td>\n      <td>NaN</td>\n      <td>NaN</td>\n      <td>NaN</td>\n      <td>NaN</td>\n      <td>NaN</td>\n      <td>NaN</td>\n      <td>NaN</td>\n      <td>NaN</td>\n      <td>NaN</td>\n      <td>NaN</td>\n      <td>NaN</td>\n      <td>NaN</td>\n      <td>NaN</td>\n      <td>NaN</td>\n      <td>NaN</td>\n      <td>NaN</td>\n      <td>NaN</td>\n      <td>NaN</td>\n      <td>NaN</td>\n      <td>NaN</td>\n      <td>NaN</td>\n      <td>NaN</td>\n      <td>NaN</td>\n      <td>NaN</td>\n      <td>NaN</td>\n      <td>NaN</td>\n      <td>NaN</td>\n      <td>NaN</td>\n      <td>NaN</td>\n      <td>NaN</td>\n      <td>NaN</td>\n      <td>NaN</td>\n      <td>NaN</td>\n      <td>NaN</td>\n      <td>NaN</td>\n      <td>0.0</td>\n      <td>0.0</td>\n      <td>0.0</td>\n      <td>3735.0</td>\n      <td>2017.0</td>\n      <td>1.0</td>\n      <td>10.0</td>\n      <td>10.0</td>\n      <td>NaN</td>\n      <td>NaN</td>\n      <td>1.0</td>\n      <td>2.000000</td>\n      <td>0.0</td>\n      <td>0.0</td>\n      <td>0.0</td>\n      <td>1</td>\n      <td>1</td>\n      <td>0</td>\n      <td>0</td>\n    </tr>\n    <tr>\n      <th>...</th>\n      <td>...</td>\n      <td>...</td>\n      <td>...</td>\n      <td>...</td>\n      <td>...</td>\n      <td>...</td>\n      <td>...</td>\n      <td>...</td>\n      <td>...</td>\n      <td>...</td>\n      <td>...</td>\n      <td>...</td>\n      <td>...</td>\n      <td>...</td>\n      <td>...</td>\n      <td>...</td>\n      <td>...</td>\n      <td>...</td>\n      <td>...</td>\n      <td>...</td>\n      <td>...</td>\n      <td>...</td>\n      <td>...</td>\n      <td>...</td>\n      <td>...</td>\n      <td>...</td>\n      <td>...</td>\n      <td>...</td>\n      <td>...</td>\n      <td>...</td>\n      <td>...</td>\n      <td>...</td>\n      <td>...</td>\n      <td>...</td>\n      <td>...</td>\n      <td>...</td>\n      <td>...</td>\n      <td>...</td>\n      <td>...</td>\n      <td>...</td>\n      <td>...</td>\n      <td>...</td>\n      <td>...</td>\n      <td>...</td>\n      <td>...</td>\n      <td>...</td>\n      <td>...</td>\n      <td>...</td>\n      <td>...</td>\n      <td>...</td>\n      <td>...</td>\n      <td>...</td>\n      <td>...</td>\n      <td>...</td>\n      <td>...</td>\n      <td>...</td>\n      <td>...</td>\n      <td>...</td>\n      <td>...</td>\n      <td>...</td>\n      <td>...</td>\n      <td>...</td>\n      <td>...</td>\n      <td>...</td>\n      <td>...</td>\n      <td>...</td>\n      <td>...</td>\n      <td>...</td>\n      <td>...</td>\n      <td>...</td>\n      <td>...</td>\n      <td>...</td>\n      <td>...</td>\n      <td>...</td>\n      <td>...</td>\n      <td>...</td>\n      <td>...</td>\n      <td>...</td>\n      <td>...</td>\n      <td>...</td>\n      <td>...</td>\n      <td>...</td>\n      <td>...</td>\n      <td>...</td>\n      <td>...</td>\n      <td>...</td>\n      <td>...</td>\n      <td>...</td>\n      <td>...</td>\n      <td>...</td>\n      <td>...</td>\n      <td>...</td>\n      <td>...</td>\n      <td>...</td>\n      <td>...</td>\n      <td>...</td>\n      <td>...</td>\n      <td>...</td>\n      <td>...</td>\n      <td>...</td>\n      <td>...</td>\n      <td>...</td>\n      <td>...</td>\n      <td>...</td>\n      <td>...</td>\n      <td>...</td>\n      <td>...</td>\n      <td>...</td>\n      <td>...</td>\n      <td>...</td>\n      <td>...</td>\n      <td>...</td>\n      <td>...</td>\n      <td>...</td>\n      <td>...</td>\n      <td>...</td>\n      <td>...</td>\n      <td>...</td>\n      <td>...</td>\n      <td>...</td>\n      <td>...</td>\n      <td>...</td>\n      <td>...</td>\n      <td>...</td>\n      <td>...</td>\n      <td>...</td>\n      <td>...</td>\n      <td>...</td>\n      <td>...</td>\n      <td>...</td>\n      <td>...</td>\n      <td>...</td>\n      <td>...</td>\n    </tr>\n    <tr>\n      <th>66068</th>\n      <td>63.0</td>\n      <td>0.0</td>\n      <td>0.0</td>\n      <td>1.380296</td>\n      <td>1.0</td>\n      <td>8.0</td>\n      <td>3.0</td>\n      <td>194.0</td>\n      <td>34.0</td>\n      <td>194.0</td>\n      <td>J189</td>\n      <td>T865</td>\n      <td>R51</td>\n      <td>Y95</td>\n      <td>L298</td>\n      <td>D89810</td>\n      <td>E222</td>\n      <td>D469</td>\n      <td>I959</td>\n      <td>Z006</td>\n      <td>NaN</td>\n      <td>NaN</td>\n      <td>NaN</td>\n      <td>NaN</td>\n      <td>NaN</td>\n      <td>NaN</td>\n      <td>NaN</td>\n      <td>NaN</td>\n      <td>NaN</td>\n      <td>NaN</td>\n      <td>NaN</td>\n      <td>NaN</td>\n      <td>NaN</td>\n      <td>NaN</td>\n      <td>NaN</td>\n      <td>NaN</td>\n      <td>NaN</td>\n      <td>NaN</td>\n      <td>NaN</td>\n      <td>NaN</td>\n      <td>NaN</td>\n      <td>NaN</td>\n      <td>NaN</td>\n      <td>NaN</td>\n      <td>NaN</td>\n      <td>NaN</td>\n      <td>NaN</td>\n      <td>NaN</td>\n      <td>NaN</td>\n      <td>NaN</td>\n      <td>0.0</td>\n      <td>1.0</td>\n      <td>0.0</td>\n      <td>41084.0</td>\n      <td>6.0</td>\n      <td>4.0</td>\n      <td>4.0</td>\n      <td>10.0</td>\n      <td>1.0</td>\n      <td>15056.0</td>\n      <td>441.0</td>\n      <td>ezzyha7</td>\n      <td>1.0</td>\n      <td>3.0</td>\n      <td>0HBJXZX</td>\n      <td>NaN</td>\n      <td>NaN</td>\n      <td>NaN</td>\n      <td>NaN</td>\n      <td>NaN</td>\n      <td>NaN</td>\n      <td>NaN</td>\n      <td>NaN</td>\n      <td>NaN</td>\n      <td>NaN</td>\n      <td>NaN</td>\n      <td>NaN</td>\n      <td>NaN</td>\n      <td>NaN</td>\n      <td>NaN</td>\n      <td>NaN</td>\n      <td>NaN</td>\n      <td>NaN</td>\n      <td>NaN</td>\n      <td>NaN</td>\n      <td>NaN</td>\n      <td>NaN</td>\n      <td>NaN</td>\n      <td>NaN</td>\n      <td>1.0</td>\n      <td>NaN</td>\n      <td>NaN</td>\n      <td>NaN</td>\n      <td>NaN</td>\n      <td>NaN</td>\n      <td>NaN</td>\n      <td>NaN</td>\n      <td>NaN</td>\n      <td>NaN</td>\n      <td>NaN</td>\n      <td>NaN</td>\n      <td>NaN</td>\n      <td>NaN</td>\n      <td>NaN</td>\n      <td>NaN</td>\n      <td>NaN</td>\n      <td>NaN</td>\n      <td>NaN</td>\n      <td>NaN</td>\n      <td>NaN</td>\n      <td>NaN</td>\n      <td>NaN</td>\n      <td>NaN</td>\n      <td>NaN</td>\n      <td>0.0</td>\n      <td>1.0</td>\n      <td>0.0</td>\n      <td>121265.0</td>\n      <td>2017.0</td>\n      <td>3.0</td>\n      <td>10.0</td>\n      <td>10.0</td>\n      <td>0.0</td>\n      <td>0.0</td>\n      <td>1.0</td>\n      <td>3.900391</td>\n      <td>0.0</td>\n      <td>2.0</td>\n      <td>0.0</td>\n      <td>0</td>\n      <td>0</td>\n      <td>0</td>\n      <td>1</td>\n    </tr>\n    <tr>\n      <th>66069</th>\n      <td>63.0</td>\n      <td>0.0</td>\n      <td>0.0</td>\n      <td>1.380296</td>\n      <td>1.0</td>\n      <td>11.0</td>\n      <td>4.0</td>\n      <td>919.0</td>\n      <td>35.0</td>\n      <td>919.0</td>\n      <td>T865</td>\n      <td>N170</td>\n      <td>J069</td>\n      <td>E872</td>\n      <td>D469</td>\n      <td>E8339</td>\n      <td>D89810</td>\n      <td>R197</td>\n      <td>D61818</td>\n      <td>R7989</td>\n      <td>K5090</td>\n      <td>D709</td>\n      <td>K219</td>\n      <td>Z006</td>\n      <td>E039</td>\n      <td>Z888</td>\n      <td>Y830</td>\n      <td>T367X5A</td>\n      <td>Y92230</td>\n      <td>G4700</td>\n      <td>Z9089</td>\n      <td>Z881</td>\n      <td>Z9049</td>\n      <td>Y92039</td>\n      <td>E806</td>\n      <td>B348</td>\n      <td>E785</td>\n      <td>NaN</td>\n      <td>NaN</td>\n      <td>NaN</td>\n      <td>NaN</td>\n      <td>NaN</td>\n      <td>NaN</td>\n      <td>NaN</td>\n      <td>NaN</td>\n      <td>NaN</td>\n      <td>NaN</td>\n      <td>NaN</td>\n      <td>NaN</td>\n      <td>NaN</td>\n      <td>0.0</td>\n      <td>1.0</td>\n      <td>0.0</td>\n      <td>41084.0</td>\n      <td>21.0</td>\n      <td>21.0</td>\n      <td>21.0</td>\n      <td>27.0</td>\n      <td>5.0</td>\n      <td>15120.0</td>\n      <td>441.0</td>\n      <td>ezzyha7</td>\n      <td>1.0</td>\n      <td>3.0</td>\n      <td>0DB58ZX</td>\n      <td>0DB98ZX</td>\n      <td>0DBN8ZX</td>\n      <td>0DB68ZX</td>\n      <td>XW03341</td>\n      <td>NaN</td>\n      <td>NaN</td>\n      <td>NaN</td>\n      <td>NaN</td>\n      <td>NaN</td>\n      <td>NaN</td>\n      <td>NaN</td>\n      <td>NaN</td>\n      <td>NaN</td>\n      <td>NaN</td>\n      <td>NaN</td>\n      <td>NaN</td>\n      <td>NaN</td>\n      <td>NaN</td>\n      <td>NaN</td>\n      <td>NaN</td>\n      <td>NaN</td>\n      <td>NaN</td>\n      <td>NaN</td>\n      <td>NaN</td>\n      <td>1.0</td>\n      <td>1.0</td>\n      <td>1.0</td>\n      <td>1.0</td>\n      <td>10.0</td>\n      <td>NaN</td>\n      <td>NaN</td>\n      <td>NaN</td>\n      <td>NaN</td>\n      <td>NaN</td>\n      <td>NaN</td>\n      <td>NaN</td>\n      <td>NaN</td>\n      <td>NaN</td>\n      <td>NaN</td>\n      <td>NaN</td>\n      <td>NaN</td>\n      <td>NaN</td>\n      <td>NaN</td>\n      <td>NaN</td>\n      <td>NaN</td>\n      <td>NaN</td>\n      <td>NaN</td>\n      <td>NaN</td>\n      <td>NaN</td>\n      <td>0.0</td>\n      <td>1.0</td>\n      <td>0.0</td>\n      <td>594335.0</td>\n      <td>2017.0</td>\n      <td>3.0</td>\n      <td>10.0</td>\n      <td>10.0</td>\n      <td>0.0</td>\n      <td>0.0</td>\n      <td>1.0</td>\n      <td>5.101562</td>\n      <td>1.0</td>\n      <td>2.0</td>\n      <td>0.0</td>\n      <td>0</td>\n      <td>0</td>\n      <td>1</td>\n      <td>1</td>\n    </tr>\n    <tr>\n      <th>66070</th>\n      <td>63.0</td>\n      <td>0.0</td>\n      <td>0.0</td>\n      <td>1.380296</td>\n      <td>1.0</td>\n      <td>12.0</td>\n      <td>4.0</td>\n      <td>202.0</td>\n      <td>35.0</td>\n      <td>202.0</td>\n      <td>J205</td>\n      <td>N170</td>\n      <td>E785</td>\n      <td>T8609</td>\n      <td>E871</td>\n      <td>K5090</td>\n      <td>D61818</td>\n      <td>E039</td>\n      <td>E440</td>\n      <td>G4700</td>\n      <td>D89810</td>\n      <td>B259</td>\n      <td>D801</td>\n      <td>Z006</td>\n      <td>I10</td>\n      <td>Z6821</td>\n      <td>Y848</td>\n      <td>Y92039</td>\n      <td>T380X5A</td>\n      <td>H04123</td>\n      <td>D469</td>\n      <td>R739</td>\n      <td>NaN</td>\n      <td>NaN</td>\n      <td>NaN</td>\n      <td>NaN</td>\n      <td>NaN</td>\n      <td>NaN</td>\n      <td>NaN</td>\n      <td>NaN</td>\n      <td>NaN</td>\n      <td>NaN</td>\n      <td>NaN</td>\n      <td>NaN</td>\n      <td>NaN</td>\n      <td>NaN</td>\n      <td>NaN</td>\n      <td>NaN</td>\n      <td>NaN</td>\n      <td>NaN</td>\n      <td>0.0</td>\n      <td>1.0</td>\n      <td>0.0</td>\n      <td>41084.0</td>\n      <td>2.0</td>\n      <td>4.0</td>\n      <td>4.0</td>\n      <td>22.0</td>\n      <td>0.0</td>\n      <td>15184.0</td>\n      <td>441.0</td>\n      <td>ezzyha7</td>\n      <td>1.0</td>\n      <td>3.0</td>\n      <td>NaN</td>\n      <td>NaN</td>\n      <td>NaN</td>\n      <td>NaN</td>\n      <td>NaN</td>\n      <td>NaN</td>\n      <td>NaN</td>\n      <td>NaN</td>\n      <td>NaN</td>\n      <td>NaN</td>\n      <td>NaN</td>\n      <td>NaN</td>\n      <td>NaN</td>\n      <td>NaN</td>\n      <td>NaN</td>\n      <td>NaN</td>\n      <td>NaN</td>\n      <td>NaN</td>\n      <td>NaN</td>\n      <td>NaN</td>\n      <td>NaN</td>\n      <td>NaN</td>\n      <td>NaN</td>\n      <td>NaN</td>\n      <td>NaN</td>\n      <td>NaN</td>\n      <td>NaN</td>\n      <td>NaN</td>\n      <td>NaN</td>\n      <td>NaN</td>\n      <td>NaN</td>\n      <td>NaN</td>\n      <td>NaN</td>\n      <td>NaN</td>\n      <td>NaN</td>\n      <td>NaN</td>\n      <td>NaN</td>\n      <td>NaN</td>\n      <td>NaN</td>\n      <td>NaN</td>\n      <td>NaN</td>\n      <td>NaN</td>\n      <td>NaN</td>\n      <td>NaN</td>\n      <td>NaN</td>\n      <td>NaN</td>\n      <td>NaN</td>\n      <td>NaN</td>\n      <td>NaN</td>\n      <td>NaN</td>\n      <td>0.0</td>\n      <td>1.0</td>\n      <td>0.0</td>\n      <td>90757.0</td>\n      <td>2017.0</td>\n      <td>3.0</td>\n      <td>10.0</td>\n      <td>10.0</td>\n      <td>0.0</td>\n      <td>0.0</td>\n      <td>1.0</td>\n      <td>4.800781</td>\n      <td>0.0</td>\n      <td>2.0</td>\n      <td>0.0</td>\n      <td>0</td>\n      <td>0</td>\n      <td>0</td>\n      <td>1</td>\n    </tr>\n    <tr>\n      <th>66071</th>\n      <td>54.0</td>\n      <td>1.0</td>\n      <td>0.0</td>\n      <td>1.858673</td>\n      <td>1.0</td>\n      <td>2.0</td>\n      <td>1.0</td>\n      <td>387.0</td>\n      <td>34.0</td>\n      <td>387.0</td>\n      <td>K51911</td>\n      <td>I10</td>\n      <td>K649</td>\n      <td>K30</td>\n      <td>K219</td>\n      <td>D509</td>\n      <td>NaN</td>\n      <td>NaN</td>\n      <td>NaN</td>\n      <td>NaN</td>\n      <td>NaN</td>\n      <td>NaN</td>\n      <td>NaN</td>\n      <td>NaN</td>\n      <td>NaN</td>\n      <td>NaN</td>\n      <td>NaN</td>\n      <td>NaN</td>\n      <td>NaN</td>\n      <td>NaN</td>\n      <td>NaN</td>\n      <td>NaN</td>\n      <td>NaN</td>\n      <td>NaN</td>\n      <td>NaN</td>\n      <td>NaN</td>\n      <td>NaN</td>\n      <td>NaN</td>\n      <td>NaN</td>\n      <td>NaN</td>\n      <td>NaN</td>\n      <td>NaN</td>\n      <td>NaN</td>\n      <td>NaN</td>\n      <td>NaN</td>\n      <td>NaN</td>\n      <td>NaN</td>\n      <td>NaN</td>\n      <td>NaN</td>\n      <td>NaN</td>\n      <td>0.0</td>\n      <td>1.0</td>\n      <td>2.0</td>\n      <td>42659.0</td>\n      <td>3.0</td>\n      <td>6.0</td>\n      <td>6.0</td>\n      <td>6.0</td>\n      <td>3.0</td>\n      <td>22912.0</td>\n      <td>435.0</td>\n      <td>ezzz5ob</td>\n      <td>1.0</td>\n      <td>2.0</td>\n      <td>0DBP8ZX</td>\n      <td>30233N1</td>\n      <td>0DBN8ZX</td>\n      <td>NaN</td>\n      <td>NaN</td>\n      <td>NaN</td>\n      <td>NaN</td>\n      <td>NaN</td>\n      <td>NaN</td>\n      <td>NaN</td>\n      <td>NaN</td>\n      <td>NaN</td>\n      <td>NaN</td>\n      <td>NaN</td>\n      <td>NaN</td>\n      <td>NaN</td>\n      <td>NaN</td>\n      <td>NaN</td>\n      <td>NaN</td>\n      <td>NaN</td>\n      <td>NaN</td>\n      <td>NaN</td>\n      <td>NaN</td>\n      <td>NaN</td>\n      <td>NaN</td>\n      <td>1.0</td>\n      <td>0.0</td>\n      <td>1.0</td>\n      <td>NaN</td>\n      <td>NaN</td>\n      <td>NaN</td>\n      <td>NaN</td>\n      <td>NaN</td>\n      <td>NaN</td>\n      <td>NaN</td>\n      <td>NaN</td>\n      <td>NaN</td>\n      <td>NaN</td>\n      <td>NaN</td>\n      <td>NaN</td>\n      <td>NaN</td>\n      <td>NaN</td>\n      <td>NaN</td>\n      <td>NaN</td>\n      <td>NaN</td>\n      <td>NaN</td>\n      <td>NaN</td>\n      <td>NaN</td>\n      <td>NaN</td>\n      <td>NaN</td>\n      <td>0.0</td>\n      <td>1.0</td>\n      <td>0.0</td>\n      <td>35391.0</td>\n      <td>2017.0</td>\n      <td>1.0</td>\n      <td>10.0</td>\n      <td>10.0</td>\n      <td>0.0</td>\n      <td>0.0</td>\n      <td>1.0</td>\n      <td>0.000000</td>\n      <td>0.0</td>\n      <td>0.0</td>\n      <td>0.0</td>\n      <td>1</td>\n      <td>1</td>\n      <td>1</td>\n      <td>1</td>\n    </tr>\n    <tr>\n      <th>66072</th>\n      <td>54.0</td>\n      <td>0.0</td>\n      <td>0.0</td>\n      <td>1.858673</td>\n      <td>1.0</td>\n      <td>2.0</td>\n      <td>1.0</td>\n      <td>386.0</td>\n      <td>34.0</td>\n      <td>386.0</td>\n      <td>K51911</td>\n      <td>F330</td>\n      <td>Z87891</td>\n      <td>K5900</td>\n      <td>K649</td>\n      <td>I10</td>\n      <td>K219</td>\n      <td>D649</td>\n      <td>R45851</td>\n      <td>NaN</td>\n      <td>NaN</td>\n      <td>NaN</td>\n      <td>NaN</td>\n      <td>NaN</td>\n      <td>NaN</td>\n      <td>NaN</td>\n      <td>NaN</td>\n      <td>NaN</td>\n      <td>NaN</td>\n      <td>NaN</td>\n      <td>NaN</td>\n      <td>NaN</td>\n      <td>NaN</td>\n      <td>NaN</td>\n      <td>NaN</td>\n      <td>NaN</td>\n      <td>NaN</td>\n      <td>NaN</td>\n      <td>NaN</td>\n      <td>NaN</td>\n      <td>NaN</td>\n      <td>NaN</td>\n      <td>NaN</td>\n      <td>NaN</td>\n      <td>NaN</td>\n      <td>NaN</td>\n      <td>NaN</td>\n      <td>NaN</td>\n      <td>NaN</td>\n      <td>NaN</td>\n      <td>0.0</td>\n      <td>1.0</td>\n      <td>2.0</td>\n      <td>44321.0</td>\n      <td>3.0</td>\n      <td>6.0</td>\n      <td>6.0</td>\n      <td>9.0</td>\n      <td>0.0</td>\n      <td>22928.0</td>\n      <td>435.0</td>\n      <td>ezzz5ob</td>\n      <td>1.0</td>\n      <td>2.0</td>\n      <td>NaN</td>\n      <td>NaN</td>\n      <td>NaN</td>\n      <td>NaN</td>\n      <td>NaN</td>\n      <td>NaN</td>\n      <td>NaN</td>\n      <td>NaN</td>\n      <td>NaN</td>\n      <td>NaN</td>\n      <td>NaN</td>\n      <td>NaN</td>\n      <td>NaN</td>\n      <td>NaN</td>\n      <td>NaN</td>\n      <td>NaN</td>\n      <td>NaN</td>\n      <td>NaN</td>\n      <td>NaN</td>\n      <td>NaN</td>\n      <td>NaN</td>\n      <td>NaN</td>\n      <td>NaN</td>\n      <td>NaN</td>\n      <td>NaN</td>\n      <td>NaN</td>\n      <td>NaN</td>\n      <td>NaN</td>\n      <td>NaN</td>\n      <td>NaN</td>\n      <td>NaN</td>\n      <td>NaN</td>\n      <td>NaN</td>\n      <td>NaN</td>\n      <td>NaN</td>\n      <td>NaN</td>\n      <td>NaN</td>\n      <td>NaN</td>\n      <td>NaN</td>\n      <td>NaN</td>\n      <td>NaN</td>\n      <td>NaN</td>\n      <td>NaN</td>\n      <td>NaN</td>\n      <td>NaN</td>\n      <td>NaN</td>\n      <td>NaN</td>\n      <td>NaN</td>\n      <td>NaN</td>\n      <td>NaN</td>\n      <td>0.0</td>\n      <td>1.0</td>\n      <td>0.0</td>\n      <td>27415.0</td>\n      <td>2017.0</td>\n      <td>1.0</td>\n      <td>10.0</td>\n      <td>10.0</td>\n      <td>NaN</td>\n      <td>NaN</td>\n      <td>1.0</td>\n      <td>4.898438</td>\n      <td>0.0</td>\n      <td>0.0</td>\n      <td>0.0</td>\n      <td>2</td>\n      <td>0</td>\n      <td>0</td>\n      <td>1</td>\n    </tr>\n  </tbody>\n</table>\n<p>66073 rows × 133 columns</p>\n</div>"
     },
     "metadata": {},
     "execution_count": 21
    }
   ],
   "source": [
    "# Take a quick look at the file.\n",
    "ibd_index_file"
   ]
  },
  {
   "cell_type": "code",
   "execution_count": 22,
   "metadata": {},
   "outputs": [
    {
     "output_type": "stream",
     "name": "stdout",
     "text": [
      "Values:  Counts:\n0        49338\n1        13918\n2        2210\n3        490\n4        109\n5        8\n"
     ]
    }
   ],
   "source": [
    "# Print out the number of times each value shows up.\n",
    "values, counts = np.unique(ibd_index_file['total_ibd_related_procedures'], return_counts=True)\n",
    "print('Values:  Counts:')\n",
    "for number in values:\n",
    "    print(f'{values[number]}        {counts[number]}')"
   ]
  },
  {
   "cell_type": "code",
   "execution_count": 23,
   "metadata": {},
   "outputs": [],
   "source": [
    "# Save the file.\n",
    "ibd_index_file.to_csv('NRD_2017_Defined_Cohort.csv', index=False)"
   ]
  },
  {
   "cell_type": "code",
   "execution_count": null,
   "metadata": {},
   "outputs": [],
   "source": []
  }
 ]
}