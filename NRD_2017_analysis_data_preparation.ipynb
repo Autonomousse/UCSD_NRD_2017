{
 "metadata": {
  "language_info": {
   "codemirror_mode": {
    "name": "ipython",
    "version": 3
   },
   "file_extension": ".py",
   "mimetype": "text/x-python",
   "name": "python",
   "nbconvert_exporter": "python",
   "pygments_lexer": "ipython3",
   "version": "3.9.1-final"
  },
  "orig_nbformat": 2,
  "kernelspec": {
   "name": "python3",
   "display_name": "Python 3.9.1 64-bit",
   "metadata": {
    "interpreter": {
     "hash": "65318f9a19e797ba91dbd1ec0d7703864a8775c5401b0f1d559072041f39fdcc"
    }
   }
  }
 },
 "nbformat": 4,
 "nbformat_minor": 2,
 "cells": [
  {
   "cell_type": "code",
   "execution_count": 1,
   "metadata": {},
   "outputs": [],
   "source": [
    "# Import dependencies.\n",
    "import pandas as pd\n",
    "import numpy as np\n",
    "import os"
   ]
  },
  {
   "cell_type": "code",
   "execution_count": 2,
   "metadata": {},
   "outputs": [],
   "source": [
    "# Set path to files and read in the CSV file. Use dtyping to save memory.\n",
    "path = 'C:/Users/outla/Desktop/VA_ML_Research/UCSD_NRD_2017'\n",
    "os.chdir(path)\n",
    "core_file = pd.read_csv(\"Nghia_NRD_2017.csv\", dtype={'age':'float16', 'aweekend':'float16', 'died':'float16', 'discwt':'float64', 'dispuniform':'float16', 'dmonth':'float16', 'dqtr':'float16', 'drg':'float16', 'drgver':'float16', 'drg_nopoa':'float16', 'i10_dx1':str, 'i10_dx2':str, 'i10_dx3':str, 'i10_dx4':str, 'i10_dx5':str, 'i10_dx6':str, 'i10_dx7':str, 'i10_dx8':str, 'i10_dx9':str, 'i10_dx10':str, 'i10_dx11':str, 'i10_dx12':str, 'i10_dx13':str, 'i10_dx14':str, 'i10_dx15':str, 'i10_dx16':str, 'i10_dx17':str, 'i10_dx18':str, 'i10_dx19':str, 'i10_dx20':str, 'i10_dx21':str, 'i10_dx22':str,'i10_dx23':str,'i10_dx24':str, 'i10_dx25':str,'i10_dx26':str,'i10_dx27':str,'i10_dx28':str,'i10_dx29':str, 'i10_dx30':str, 'i10_dx31':str, 'i10_dx32':str, 'i10_dx33':str, 'i10_dx34':str, 'i10_dx35':str, 'i10_dx36':str, 'i10_dx37':str, 'i10_dx38':str, 'i10_dx39':str, 'i10_dx40':str, 'elective':'float16', 'female':'float16', 'hcup_ed':'float16', 'hosp_nrd':'float64', 'los': 'float16', 'mdc':'float16', 'mdc_nopoa':'float16', 'i10_ndx':'float16', 'i10_npr':'float16', 'nrd_daystoevent':'float16', 'nrd_stratum':'float16', 'nrd_visitlink':str, 'pay1':'float16', 'pl_nchs':'float16', 'i10_pr1':str, 'i10_pr2':str, 'i10_pr3':str, 'i10_pr4':str, 'i10_pr5':str, 'i10_pr6':str, 'i10_pr7':str, 'i10_pr8':str, 'i10_pr9':str, 'i10_pr10':str, 'i10_pr11':str, 'i10_pr12':str, 'i10_pr13':str, 'i10_pr14':str, 'i10_pr15':str, 'i10_pr16':str, 'i10_pr17':str, 'i10_pr18':str, 'i10_pr19':str, 'i10_pr20':str, 'i10_pr21':str, 'i10_pr22':str, 'i10_pr23':str, 'i10_pr24':str, 'i10_pr25':str, 'prday1':'float16', 'prday2':'float16', 'prday3':'float16', 'prday4':'float16', 'prday5':'float16', 'prday6':'float16', 'prday7':'float16', 'prday8':'float16', 'prday9':'float16', 'prday10':'float16', 'prday11':'float16', 'prday12':'float16', 'prday13':'float16', 'prday14':'float16', 'prday15':'float16', 'prday16':'float16', 'prday17':'float16', 'prday18':'float16', 'prday19':'float16', 'prday20':'float16', 'prday21':'float16', 'prday22':'float16', 'prday23':'float16', 'prday24':'float16', 'prday25':'float16', 'rehabtransfer':'float16', 'resident':'float16', 'samedayevent':'float16', 'totchg':'float64', 'year':'float16', 'zipinc_qrtl':'float16', 'dxver':'float16', 'prver':'float16', 'preventable_readmission':'float16', 'prev_readm_reason':'float16', 'medical_admission':'float16', 'hfrs_score':'float16', 'hfrs_severity':'float16', 'cc_score':'float16', 'cc_severity':'float16'})"
   ]
  },
  {
   "cell_type": "code",
   "execution_count": 4,
   "metadata": {},
   "outputs": [
    {
     "output_type": "execute_result",
     "data": {
      "text/plain": [
       "    age  aweekend  died    discwt  dispuniform  dmonth  dqtr    drg  drgver  \\\n",
       "0  30.0       0.0   0.0  1.420029          1.0    11.0   4.0  775.0    35.0   \n",
       "1  66.0       0.0   0.0  1.267230          6.0     7.0   3.0  572.0    34.0   \n",
       "2  71.0       0.0   0.0  1.273615          6.0    10.0   4.0   91.0    35.0   \n",
       "3  43.0       0.0   0.0  1.554362          1.0    10.0   4.0  439.0    35.0   \n",
       "4  36.0       0.0   0.0  1.420029          1.0     9.0   3.0  392.0    34.0   \n",
       "\n",
       "   drg_nopoa  ... zipinc_qrtl dxver prver preventable_readmission  \\\n",
       "0      775.0  ...         2.0  10.0  10.0                     NaN   \n",
       "1      572.0  ...         2.0  10.0  10.0                     0.0   \n",
       "2       91.0  ...         4.0  10.0  10.0                     NaN   \n",
       "3      439.0  ...         1.0  10.0  10.0                     0.0   \n",
       "4      392.0  ...         4.0  10.0  10.0                     0.0   \n",
       "\n",
       "  prev_readm_reason medical_admission hfrs_score hfrs_severity cc_score  \\\n",
       "0               NaN               1.0   0.000000           0.0      0.0   \n",
       "1               0.0               0.0   0.000000           0.0      0.0   \n",
       "2               NaN               1.0   3.599609           0.0      1.0   \n",
       "3               0.0               1.0   4.101562           0.0      1.0   \n",
       "4               0.0               1.0   3.300781           0.0      0.0   \n",
       "\n",
       "  cc_severity  \n",
       "0         0.0  \n",
       "1         0.0  \n",
       "2         0.0  \n",
       "3         0.0  \n",
       "4         0.0  \n",
       "\n",
       "[5 rows x 129 columns]"
      ],
      "text/html": "<div>\n<style scoped>\n    .dataframe tbody tr th:only-of-type {\n        vertical-align: middle;\n    }\n\n    .dataframe tbody tr th {\n        vertical-align: top;\n    }\n\n    .dataframe thead th {\n        text-align: right;\n    }\n</style>\n<table border=\"1\" class=\"dataframe\">\n  <thead>\n    <tr style=\"text-align: right;\">\n      <th></th>\n      <th>age</th>\n      <th>aweekend</th>\n      <th>died</th>\n      <th>discwt</th>\n      <th>dispuniform</th>\n      <th>dmonth</th>\n      <th>dqtr</th>\n      <th>drg</th>\n      <th>drgver</th>\n      <th>drg_nopoa</th>\n      <th>...</th>\n      <th>zipinc_qrtl</th>\n      <th>dxver</th>\n      <th>prver</th>\n      <th>preventable_readmission</th>\n      <th>prev_readm_reason</th>\n      <th>medical_admission</th>\n      <th>hfrs_score</th>\n      <th>hfrs_severity</th>\n      <th>cc_score</th>\n      <th>cc_severity</th>\n    </tr>\n  </thead>\n  <tbody>\n    <tr>\n      <th>0</th>\n      <td>30.0</td>\n      <td>0.0</td>\n      <td>0.0</td>\n      <td>1.420029</td>\n      <td>1.0</td>\n      <td>11.0</td>\n      <td>4.0</td>\n      <td>775.0</td>\n      <td>35.0</td>\n      <td>775.0</td>\n      <td>...</td>\n      <td>2.0</td>\n      <td>10.0</td>\n      <td>10.0</td>\n      <td>NaN</td>\n      <td>NaN</td>\n      <td>1.0</td>\n      <td>0.000000</td>\n      <td>0.0</td>\n      <td>0.0</td>\n      <td>0.0</td>\n    </tr>\n    <tr>\n      <th>1</th>\n      <td>66.0</td>\n      <td>0.0</td>\n      <td>0.0</td>\n      <td>1.267230</td>\n      <td>6.0</td>\n      <td>7.0</td>\n      <td>3.0</td>\n      <td>572.0</td>\n      <td>34.0</td>\n      <td>572.0</td>\n      <td>...</td>\n      <td>2.0</td>\n      <td>10.0</td>\n      <td>10.0</td>\n      <td>0.0</td>\n      <td>0.0</td>\n      <td>0.0</td>\n      <td>0.000000</td>\n      <td>0.0</td>\n      <td>0.0</td>\n      <td>0.0</td>\n    </tr>\n    <tr>\n      <th>2</th>\n      <td>71.0</td>\n      <td>0.0</td>\n      <td>0.0</td>\n      <td>1.273615</td>\n      <td>6.0</td>\n      <td>10.0</td>\n      <td>4.0</td>\n      <td>91.0</td>\n      <td>35.0</td>\n      <td>91.0</td>\n      <td>...</td>\n      <td>4.0</td>\n      <td>10.0</td>\n      <td>10.0</td>\n      <td>NaN</td>\n      <td>NaN</td>\n      <td>1.0</td>\n      <td>3.599609</td>\n      <td>0.0</td>\n      <td>1.0</td>\n      <td>0.0</td>\n    </tr>\n    <tr>\n      <th>3</th>\n      <td>43.0</td>\n      <td>0.0</td>\n      <td>0.0</td>\n      <td>1.554362</td>\n      <td>1.0</td>\n      <td>10.0</td>\n      <td>4.0</td>\n      <td>439.0</td>\n      <td>35.0</td>\n      <td>439.0</td>\n      <td>...</td>\n      <td>1.0</td>\n      <td>10.0</td>\n      <td>10.0</td>\n      <td>0.0</td>\n      <td>0.0</td>\n      <td>1.0</td>\n      <td>4.101562</td>\n      <td>0.0</td>\n      <td>1.0</td>\n      <td>0.0</td>\n    </tr>\n    <tr>\n      <th>4</th>\n      <td>36.0</td>\n      <td>0.0</td>\n      <td>0.0</td>\n      <td>1.420029</td>\n      <td>1.0</td>\n      <td>9.0</td>\n      <td>3.0</td>\n      <td>392.0</td>\n      <td>34.0</td>\n      <td>392.0</td>\n      <td>...</td>\n      <td>4.0</td>\n      <td>10.0</td>\n      <td>10.0</td>\n      <td>0.0</td>\n      <td>0.0</td>\n      <td>1.0</td>\n      <td>3.300781</td>\n      <td>0.0</td>\n      <td>0.0</td>\n      <td>0.0</td>\n    </tr>\n  </tbody>\n</table>\n<p>5 rows × 129 columns</p>\n</div>"
     },
     "metadata": {},
     "execution_count": 4
    }
   ],
   "source": [
    "# Take a quick look at the file structure.\n",
    "core_file.head()"
   ]
  },
  {
   "cell_type": "code",
   "execution_count": 5,
   "metadata": {},
   "outputs": [],
   "source": [
    "# Sort the file in ascending order based on the values of the 'nrd_visitlink' column so all of the patient visits are grouped together.\n",
    "# Secondly, sort by 'dmonth' so that the patients are sorted from January through December.\n",
    "# core_file = core_file.sort_values(by=['nrd_visitlink']).reset_index(drop=True) # add 'dmonth' if necessary"
   ]
  },
  {
   "cell_type": "code",
   "execution_count": 6,
   "metadata": {},
   "outputs": [
    {
     "output_type": "execute_result",
     "data": {
      "text/plain": [
       "13217506"
      ]
     },
     "metadata": {},
     "execution_count": 6
    }
   ],
   "source": [
    "# Check the number of unique patients. We can compare this value to the number of remaining patients once we define the cohort.\n",
    "len(core_file['nrd_visitlink'].unique())"
   ]
  },
  {
   "cell_type": "code",
   "execution_count": 9,
   "metadata": {},
   "outputs": [],
   "source": [
    "# This dictionary holds the fill in values for any blanks or NaN's in the data for the columns labeled 'i10_dx1' and 'i10_dx2'.\n",
    "# If there is no primary or secondary discharge diagnosis, it will be filled in with a value of '000000' so we can iterate through the rows without any errors below.\n",
    "values = {'i10_dx1': '000000', 'i10_dx2': '000000'}\n",
    "core_file = core_file.fillna(value = values)"
   ]
  },
  {
   "cell_type": "code",
   "execution_count": 10,
   "metadata": {
    "tags": []
   },
   "outputs": [],
   "source": [
    "# Create a new list, use list comprehension and itertuples to go through the dataset and create a list of patients who have either have a primary or secondary diagnosis of IBD.\n",
    "patient_list = []\n",
    "patient_list = [row.nrd_visitlink for row in core_file.itertuples(index=False) if 'K50' in row.i10_dx1 or 'K51' in row.i10_dx1 or 'K50' in row.i10_dx2 or 'K51' in row.i10_dx2]"
   ]
  },
  {
   "cell_type": "code",
   "execution_count": 12,
   "metadata": {},
   "outputs": [
    {
     "output_type": "execute_result",
     "data": {
      "text/plain": [
       "62472"
      ]
     },
     "metadata": {},
     "execution_count": 12
    }
   ],
   "source": [
    "# A new list of unique patient ID's from patient_list.\n",
    "unique_patients = np.unique(patient_list)\n",
    "len(unique_patients)"
   ]
  },
  {
   "cell_type": "code",
   "execution_count": 40,
   "metadata": {
    "tags": []
   },
   "outputs": [],
   "source": [
    "# Create a new dataframe with the same columns as core_file.\n",
    "cohort_file = pd.DataFrame(columns=core_file.columns)\n",
    "x = 0\n",
    "\n",
    "# Go through the dataset and append any rows that have nrd_visitlinks in the unique_patients list to cohort_file because these are the patients we are looking at.\n",
    "for row in core_file.itertuples(index=False):\n",
    "    x += 1\n",
    "    print(x)\n",
    "    if row.nrd_visitlink in unique_patients:\n",
    "        temp = pd.DataFrame([row],columns = row._fields)\n",
    "        cohort_file = cohort_file.append(temp)"
   ]
  },
  {
   "cell_type": "code",
   "execution_count": 41,
   "metadata": {
    "tags": []
   },
   "outputs": [
    {
     "output_type": "execute_result",
     "data": {
      "text/plain": [
       "Empty DataFrame\n",
       "Columns: [age, aweekend, died, discwt, dispuniform, dmonth, dqtr, drg, drgver, drg_nopoa, i10_dx1, i10_dx2, i10_dx3, i10_dx4, i10_dx5, i10_dx6, i10_dx7, i10_dx8, i10_dx9, i10_dx10, i10_dx11, i10_dx12, i10_dx13, i10_dx14, i10_dx15, i10_dx16, i10_dx17, i10_dx18, i10_dx19, i10_dx20, i10_dx21, i10_dx22, i10_dx23, i10_dx24, i10_dx25, i10_dx26, i10_dx27, i10_dx28, i10_dx29, i10_dx30, i10_dx31, i10_dx32, i10_dx33, i10_dx34, i10_dx35, i10_dx36, i10_dx37, i10_dx38, i10_dx39, i10_dx40, elective, female, hcup_ed, hosp_nrd, los, mdc, mdc_nopoa, i10_ndx, i10_npr, nrd_daystoevent, nrd_stratum, nrd_visitlink, pay1, pl_nchs, i10_pr1, i10_pr2, i10_pr3, i10_pr4, i10_pr5, i10_pr6, i10_pr7, i10_pr8, i10_pr9, i10_pr10, i10_pr11, i10_pr12, i10_pr13, i10_pr14, i10_pr15, i10_pr16, i10_pr17, i10_pr18, i10_pr19, i10_pr20, i10_pr21, i10_pr22, i10_pr23, i10_pr24, i10_pr25, prday1, prday2, prday3, prday4, prday5, prday6, prday7, prday8, prday9, prday10, prday11, ...]\n",
       "Index: []\n",
       "\n",
       "[0 rows x 129 columns]"
      ],
      "text/html": "<div>\n<style scoped>\n    .dataframe tbody tr th:only-of-type {\n        vertical-align: middle;\n    }\n\n    .dataframe tbody tr th {\n        vertical-align: top;\n    }\n\n    .dataframe thead th {\n        text-align: right;\n    }\n</style>\n<table border=\"1\" class=\"dataframe\">\n  <thead>\n    <tr style=\"text-align: right;\">\n      <th></th>\n      <th>age</th>\n      <th>aweekend</th>\n      <th>died</th>\n      <th>discwt</th>\n      <th>dispuniform</th>\n      <th>dmonth</th>\n      <th>dqtr</th>\n      <th>drg</th>\n      <th>drgver</th>\n      <th>drg_nopoa</th>\n      <th>...</th>\n      <th>zipinc_qrtl</th>\n      <th>dxver</th>\n      <th>prver</th>\n      <th>preventable_readmission</th>\n      <th>prev_readm_reason</th>\n      <th>medical_admission</th>\n      <th>hfrs_score</th>\n      <th>hfrs_severity</th>\n      <th>cc_score</th>\n      <th>cc_severity</th>\n    </tr>\n  </thead>\n  <tbody>\n  </tbody>\n</table>\n<p>0 rows × 129 columns</p>\n</div>"
     },
     "metadata": {},
     "execution_count": 41
    }
   ],
   "source": [
    "# Take a look at the new dataframe\n",
    "cohort_file"
   ]
  },
  {
   "cell_type": "code",
   "execution_count": null,
   "metadata": {},
   "outputs": [],
   "source": [
    "# Save the new dataframe as a CSV. Drop the index.\n",
    "cohort_file.to_csv('Nghia_NRD_2017_Cohort.csv', index=False)"
   ]
  }
 ]
}